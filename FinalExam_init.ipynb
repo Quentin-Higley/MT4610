{
 "cells": [
  {
   "cell_type": "code",
   "execution_count": 1,
   "metadata": {},
   "outputs": [],
   "source": [
    "import numpy as np\n",
    "import numericalMethods as nm\n",
    "import matplotlib.pyplot as plt"
   ]
  },
  {
   "attachments": {},
   "cell_type": "markdown",
   "metadata": {},
   "source": [
    "1. The equation $f(x) = 2−x^2 sinx = 0$ has a solution in the interval $[− 1 ,2]$.\n",
    "\n",
    "    a. Verify that the Bisection method can be applied to the function $f(x)$ on $[− 1 ,2]$.\n",
    "\n",
    "    b. Using the error formula for the Bisection method find the number of iterations needed for accuracy $0.000001$. Do not do the Bisection calculations.\n",
    "\n",
    "    c. Compute $p_3$ for the Bisection method."
   ]
  },
  {
   "attachments": {},
   "cell_type": "markdown",
   "metadata": {},
   "source": [
    "To apply the Bisection method f(x) needs to be continuous and $f(a)f(b) < 0$.\n",
    "\n",
    "$$f(-1) = 2 + 1 - 1 = 2$$\n",
    "$$f(2) = 2 - 4 - 2 = -4$$\n",
    "\n",
    "Since $f(-1)f(2) < 0$ and is continuous on the interval [-1, 2], we can apply the Bisection method.\n",
    "\n",
    "To find how many iterations are needed for an accuracy of $10^{-5}$, we use the error formula:\n",
    "\n",
    "$|p_n - p_{n-1}| < \\frac{b - a}{2^n}$\n",
    "\n",
    "$|p_n - p_{n-1}| = 10^{-5}$\n",
    "\n",
    "$b = 2$\n",
    "\n",
    "$a = -1$\n",
    "\n",
    "$\\implies \\frac{3}{2^{-n}} \\le 10^{-5}$\n",
    "\n",
    "$\\implies 2^{-n} \\le \\frac{1}{300000}$\n",
    "\n",
    "$\\implies -n ln(2) \\le ln(\\frac{1}{300000})$\n",
    "\n",
    "$\\implies n \\ge \\frac{ln(300000)}{ln(2)}$\n",
    "\n",
    "$\\implies n \\ge 18.1946$\n",
    "\n",
    "Since n must be an integer, there needs to be at least 19 iterations."
   ]
  },
  {
   "cell_type": "code",
   "execution_count": 3,
   "metadata": {},
   "outputs": [
    {
     "data": {
      "text/plain": [
       "1.625"
      ]
     },
     "execution_count": 3,
     "metadata": {},
     "output_type": "execute_result"
    }
   ],
   "source": [
    "def f(x):\n",
    "    return 2 - np.power(x, 2) * np.sin(x)\n",
    "\n",
    "bisectionMethod(f, -1, 2, 0.1, 3)"
   ]
  },
  {
   "attachments": {},
   "cell_type": "markdown",
   "metadata": {},
   "source": [
    "<hr>"
   ]
  },
  {
   "attachments": {},
   "cell_type": "markdown",
   "metadata": {},
   "source": [
    "2. Use two methods of your choice from Section 2.3 to find the solutions to within $10^{-5}$ for the following problem:\n",
    "$$ln(x−1) + cos(x−1) = 0,\\: 1.3 \\le x \\le 2 $$"
   ]
  },
  {
   "cell_type": "code",
   "execution_count": null,
   "metadata": {},
   "outputs": [],
   "source": [
    "def f(x):\n",
    "    return np.log(x-1) + np.cos(x-1)\n",
    "def df(x):\n",
    "    return 1/(x-1) - np.sin(x-1)\n",
    "\n",
    "print(newtonsMethod(1.01, f, df, 1e-5, 100))\n",
    "print(false_position(f, 1.01, 3, 1e-5, 100))"
   ]
  },
  {
   "attachments": {},
   "cell_type": "markdown",
   "metadata": {},
   "source": [
    "<hr>"
   ]
  },
  {
   "attachments": {},
   "cell_type": "markdown",
   "metadata": {},
   "source": [
    "3. Let $f(x) =x\\:lnx+x^4$\n",
    "\n",
    "    a. Approximate $$\\begin{align*} \\int_1^3 f(x)\\:dx \\end{align*}$$ using Composite Simpsons rule with $n= 4$.\n",
    "\n",
    "    b. Find the smallest upper bound for the absolute error using the error formula.\n",
    "\n",
    "    c. Find the values of n required for an error of at most $0.00001$."
   ]
  },
  {
   "cell_type": "code",
   "execution_count": 6,
   "metadata": {},
   "outputs": [
    {
     "data": {
      "text/plain": [
       "51.34376480784834"
      ]
     },
     "execution_count": 6,
     "metadata": {},
     "output_type": "execute_result"
    }
   ],
   "source": [
    "def f(x):\n",
    "    return x * np.log(x) + np.power(x, 4)\n",
    "\n",
    "nm.composite_simpson(f, 1, 3, 4)"
   ]
  },
  {
   "attachments": {},
   "cell_type": "markdown",
   "metadata": {},
   "source": [
    "To find the error bound for the Compisite Simpsons rule, $f \\in C^4[a,b]$.\n",
    "\n",
    "$$\\frac{d}{dx}(f(x)) = ln(x) + 1 + 4x^3$$\n",
    "$$\\frac{d^2}{dx^2}(f(x)) = \\frac{1}{x} + 12x^2$$\n",
    "$$\\frac{d^3}{dx^3}(f(x)) = -\\frac{1}{x^2} + 24x$$\n",
    "$$\\frac{d^4}{dx^4}(f(x)) = \\frac{2}{x^3} + 24$$\n",
    "\n",
    "Since $f \\in C^4[a,b]$, we can use the error formula:\n",
    "\n",
    "$$\\frac{b-a}{180}h^4f^4(\\mu),\\; h = \\frac{b-a}{n}$$\n",
    "\n",
    "the largest value of $f^4(\\mu)$ is at $f^4(1) = 26$\n",
    "\n",
    "$h = \\frac{3-1}{4} = \\frac{2}{4} = \\frac{1}{2}$\n",
    "\n",
    "$$\\implies \\frac{1}{180}*\\frac{1}{2^4}*26 \\le 10^{-x}$$\n",
    "\n",
    "$$\\implies \\frac{26}{2880} \\le 10^{-x}$$\n",
    "\n",
    "$$\\implies ln(\\frac{26}{2880}) \\le -xln(10)$$\n",
    "\n",
    "$$\\implies x \\ge \\frac{ln(\\frac{26}{2880})}{ln(10)}$$\n",
    "\n",
    "$$\\implies x \\ge 2.04441913979$$\n",
    "\n",
    "This implies that the smallest upper bound for the absolute error is $10^{-2.04441913979}$ or $0.00902777777774$.\n",
    "\n",
    "<br>\n",
    "<br>\n",
    "<br>\n",
    "\n",
    "to find the value of n, to get an error of $10^{-5}$ we can use the error formula:\n",
    "\n",
    "$$\\frac{b-a}{180}h^4f^4(\\mu),\\; h = \\frac{b-a}{n}$$\n",
    "\n",
    "the largest value of $f^4(\\mu)$ is at $f^4(1) = 26$\n",
    "\n",
    "$$\\implies \\frac{2 h ^4}{180}*26 \\le 0.00001$$\n",
    "\n",
    "$h = \\frac{2}{n}$\n",
    "\n",
    "$$\\implies \\frac{32}{180*n^4}*26 \\le 0.00001$$\n",
    "\n",
    "$$\\implies  32 \\le \\frac{0.00001(180x^4)}{26}$$\n",
    "\n",
    "$$\\implies  32 \\le \\frac{0.0018}{26}x^4$$\n",
    "\n",
    "$$\\implies  \\frac{32*26}{0.0018} \\le x^4$$\n",
    "\n",
    "$$\\implies \\sqrt[4]{\\frac{32*26}{0.0018}} \\le x$$\n",
    "\n",
    "$$\\implies \\sqrt[4]{462222.222222} \\le x$$\n",
    "\n",
    "$$\\implies  26.0743028378 \\le x$$\n",
    "\n",
    "Because n must be an even integer, we need to round up to 28.\n"
   ]
  },
  {
   "attachments": {},
   "cell_type": "markdown",
   "metadata": {},
   "source": [
    "<hr>"
   ]
  },
  {
   "attachments": {},
   "cell_type": "markdown",
   "metadata": {},
   "source": [
    "4. Let $A = \\begin{bmatrix}\n",
    "   1 & -1 & 2\\\\\n",
    "   -1 & 2 & -4\\\\\n",
    "   2 & -4 & 9\n",
    "\\end{bmatrix}$ and $b = \\begin{bmatrix}\n",
    "   -1\\\\\n",
    "   4\\\\\n",
    "   -9\n",
    "\\end{bmatrix}$\n",
    "\n",
    "   a. Factor the matrix $A$ using your choice of factorizations\n",
    "\n",
    "   b. Using the factorization obtained in a. solve the system $Ax=b$."
   ]
  },
  {
   "cell_type": "code",
   "execution_count": null,
   "metadata": {},
   "outputs": [],
   "source": [
    "A = np.array([[1, -1, 2], [-1, 2, -4], [2, -4, 9]])\n",
    "b = np.array([-1, 4, -9])\n",
    "\n",
    "L, U = LUdecomposition(A)\n",
    "L = np.hstack((L, b.reshape(3, 1)))\n",
    "y  = GaussianElimination(L)\n",
    "\n",
    "U = np.hstack((U, y.reshape(3, 1)))\n",
    "x = GaussianElimination(U)\n",
    "x\n"
   ]
  },
  {
   "attachments": {},
   "cell_type": "markdown",
   "metadata": {},
   "source": [
    "<hr>"
   ]
  },
  {
   "attachments": {},
   "cell_type": "markdown",
   "metadata": {},
   "source": [
    "5. Let $A = \\begin{bmatrix}\n",
    "   3 & -2 & 0\\\\\n",
    "   -2 & 4 & -1\\\\\n",
    "   0 & 1 & 2\n",
    "\\end{bmatrix}$ and $b = \\begin{bmatrix}\n",
    "   2\\\\\n",
    "   1\\\\\n",
    "   -2\n",
    "\\end{bmatrix}$\n",
    "\n",
    "    a. Find the first two iterations using the Jacobi method with $x(0) = (1, 1, 1)^t$.\n",
    "\n",
    "    b. Find the first two iterations using the Gauss-Seidel method with $x(0) = (1, 1, 1)^t$.\n",
    "\n",
    "    c. Will the Jacobi method converge for this linear system? Why or why not?"
   ]
  },
  {
   "cell_type": "code",
   "execution_count": null,
   "metadata": {},
   "outputs": [],
   "source": [
    "A = np.array([[3, -2, 0], [-2, 4, -1], [0, 1, 2]])\n",
    "b = np.array([2, 1, -2])\n",
    "\n",
    "nm.JacobiIteration(A, b, maxIter=2)"
   ]
  },
  {
   "cell_type": "code",
   "execution_count": null,
   "metadata": {},
   "outputs": [],
   "source": [
    "A = np.array([[3, -2, 0], [-2, 4, -1], [0, 1, 2]])\n",
    "b = np.array([2, 1, -2])\n",
    "\n",
    "nm.GaussSeidelIteration(A, b, maxIter=2)"
   ]
  },
  {
   "attachments": {},
   "cell_type": "markdown",
   "metadata": {},
   "source": [
    "Using thm 7.21, if A is diagonally dominant, then both the Jacobi and Gauss-Seidel method will converge to a unique solution to $Ax = b$ for any initial guess $x^{(0)}$.\n",
    "\n",
    "To show that A is diagonally dominant, we need to show that the absolute value of the diagonal element is greater than the sum of the absolute values of the other elements in the row. \n",
    "\n",
    "Row 1: $3 > | -2 | + | 0 | = 2$\n",
    "\n",
    "Row 2: $4 > | -2 | + | -1 | = 3$\n",
    "\n",
    "Row 3: $2 > | 0 | + | 1 | = 1$\n",
    "\n",
    "Therefore, $A$ is diagonally dominant and both the Jacobi and Gauss-Seidel method will converge to a unique solution to $Ax = b$ for any initial guess $x^{(0)}$.\n",
    "\n"
   ]
  },
  {
   "attachments": {},
   "cell_type": "markdown",
   "metadata": {},
   "source": [
    "<hr>"
   ]
  },
  {
   "attachments": {},
   "cell_type": "markdown",
   "metadata": {},
   "source": [
    "6. Let $A = \\begin{bmatrix}\n",
    "   1 & 0 & -1\\\\\n",
    "   0 & 1 & 1\\\\\n",
    "   1 & -1 & \\alpha\n",
    "\\end{bmatrix}$\n",
    "\n",
    "find all values of $\\alpha$ for which:\n",
    "\n",
    "   a. $A$ is singular\n",
    "\n",
    "   b. $A$ is strictly diagonally dominant\n",
    "\n",
    "   c. $A$ is positive definite"
   ]
  },
  {
   "cell_type": "code",
   "execution_count": null,
   "metadata": {},
   "outputs": [],
   "source": [
    "A = np.array([[1, 0, -1], [0, 1, 1], [1, -1, 4]])"
   ]
  },
  {
   "attachments": {},
   "cell_type": "markdown",
   "metadata": {},
   "source": [
    "A matrix is singular if its determinant is zero.\n",
    "\n",
    "$Det(A) = 1(\\alpha + 1) - 0 - (0-1)$\n",
    "\n",
    "$\\implies$ $(\\alpha + 2) = 0$\n",
    "\n",
    "$\\implies$ $\\alpha = -2$\n",
    "\n",
    "Matrix $A$ is singular when $\\alpha = -2$.\n",
    "\n",
    "\n",
    "\n",
    "\n",
    "A matrix is strictly diagonally dominant if the absolute value of the diagonal element is greater than the sum of the absolute values of the other elements in the row.\n",
    "\n",
    "In its current form $A$ is not strictly diagonally dominant. However if some row operations are performed, then $A$ can be made strictly diagonally dominant.\n",
    "\n",
    "$\\begin{bmatrix}\n",
    "   1 & 0 & -1\\\\\n",
    "   0 & 1 & 1\\\\\n",
    "   1 & -1 & \\alpha\n",
    "\\end{bmatrix}$\n",
    "\n",
    "$R_3 = R_3 - R_1 + R_2$\n",
    "\n",
    "\n",
    "$\\begin{bmatrix}\n",
    "   1 & 0 & -1\\\\\n",
    "   0 & 1 & 1\\\\\n",
    "   0 & 0 & \\alpha + 2\n",
    "\\end{bmatrix}$\n",
    "\n",
    "$R_3 = \\frac{1}{2}R_3$\n",
    "\n",
    "$\\begin{bmatrix}\n",
    "   1 & 0 & -1\\\\\n",
    "   0 & 1 & 1\\\\\n",
    "   0 & 0 & \\frac{\\alpha}{2} + 1\n",
    "\\end{bmatrix}$\n",
    "\n",
    "$R_1 = R_1 + R_3$\n",
    "\n",
    "$R_2 = R_2 - R_3$\n",
    "\n",
    "$\\begin{bmatrix}\n",
    "   1 & 0 & \\frac{\\alpha}{2}\\\\\n",
    "   0 & 1 & -\\frac{\\alpha}{2}\\\\\n",
    "   0 & 0 & \\frac{\\alpha}{2} + 1\n",
    "\\end{bmatrix}$\n",
    "\n",
    "Since the requirement to be diagonally dominant is that the absolute value of the diagonal element is greater than the sum of the absolute values of the other elements in the row, we can see that the matrix is strictly diagonally dominant when |$\\alpha| < 2$.\n",
    "\n",
    "\n",
    "\n",
    "A matrix is positive definite if $x^TAx > 0$ for all non-zero vectors $x$.\n",
    "\n",
    "$[x_1, x_2, x_3] * A * x >0$"
   ]
  },
  {
   "attachments": {},
   "cell_type": "markdown",
   "metadata": {},
   "source": [
    "<hr>"
   ]
  },
  {
   "attachments": {},
   "cell_type": "markdown",
   "metadata": {},
   "source": [
    "7. Let $A = \\begin{bmatrix}\n",
    "   8 & 1 & 0\\\\\n",
    "   1 & 4 & -2\\\\\n",
    "   0 & -2 & 8\n",
    "\\end{bmatrix}$\n",
    "\n",
    "    a. Find $\\|A\\|_{\\infin}$\n",
    "    \n",
    "    b. Find $\\rho (A)$"
   ]
  },
  {
   "attachments": {},
   "cell_type": "markdown",
   "metadata": {},
   "source": [
    "To find $\\|A\\|_{\\infin}$, we find the largest row sum of each absolute value of the elements in the matrix.\n",
    "\n",
    "Row 1, $8 + 1 + 0 = 9$\n",
    "\n",
    "Row 2, $1 + 4 + 2 = 7$\n",
    "\n",
    "Row 3, $0 + 2 + 8 = 10$\n",
    "\n",
    "$\\implies$ $\\|A\\|_{\\infin} = 10$"
   ]
  },
  {
   "attachments": {},
   "cell_type": "markdown",
   "metadata": {},
   "source": [
    "To find $\\rho (A)$, we find the largest eigenvalue of the matrix.\n",
    "To find the eigenvalues of a matrix, we use the characteristic equation, $det(A -\\lambda I)$.\n",
    "\n",
    "$\\begin{vmatrix}\n",
    "   8 - \\lambda & 1 & 0\\\\\n",
    "   1 & 4 - \\lambda & -2\\\\\n",
    "   0 & -2 & 8 - \\lambda\n",
    "\\end{vmatrix} = 0$\n",
    "\n",
    "$Det(A) = (8-\\lambda)((4-\\lambda)(8-\\lambda) - 4) - (8-\\lambda)$\n",
    "\n",
    "$\\implies$ $-x^3+20x^2-123x+216 = 0$\n",
    "\n",
    "$\\implies$ $x = 3, 8, 9$\n",
    "\n",
    "$\\implies$ $\\rho (A) = 9$\n"
   ]
  },
  {
   "cell_type": "code",
   "execution_count": null,
   "metadata": {},
   "outputs": [],
   "source": [
    "def f(x):\n",
    "    return -1 * np.power(x, 3) + 20*np.power(x, 2) -123*x + 216\n",
    "def df(x):\n",
    "    return -3*np.power(x, 2)+40*x-123\n",
    "\n",
    "\n",
    "fig = plt.figure()\n",
    "ax = fig.add_subplot(1, 1, 1)\n",
    "ax.spines['bottom'].set_position('zero')\n",
    "ax.set_xticks(np.arange(0, 10, 1))\n",
    "ax.xaxis.set_ticks_position('bottom')\n",
    "ax.yaxis.set_ticks_position('left')\n",
    "plt.plot(np.linspace(0, 10, 100), f(np.linspace(0, 10, 100)))\n",
    "\n",
    "def df(x):\n",
    "    return -3*np.power(x, 2)+40*x-123\n",
    "\n",
    "print(newtonsMethod(3, f, df, 1e-15, 1000))\n",
    "print(newtonsMethod(8, f, df, 1e-15, 1000))\n",
    "print(newtonsMethod(9, f, df, 1e-15, 1000))"
   ]
  },
  {
   "attachments": {},
   "cell_type": "markdown",
   "metadata": {},
   "source": [
    "<hr>"
   ]
  }
 ],
 "metadata": {
  "kernelspec": {
   "display_name": "dataPy",
   "language": "python",
   "name": "python3"
  },
  "language_info": {
   "codemirror_mode": {
    "name": "ipython",
    "version": 3
   },
   "file_extension": ".py",
   "mimetype": "text/x-python",
   "name": "python",
   "nbconvert_exporter": "python",
   "pygments_lexer": "ipython3",
   "version": "3.10.6"
  },
  "orig_nbformat": 4,
  "vscode": {
   "interpreter": {
    "hash": "8a2c1878e4d84f64cd2870bb3bdfdca84a9c1b9fce17f2d18b072f326e75f6cf"
   }
  }
 },
 "nbformat": 4,
 "nbformat_minor": 2
}
