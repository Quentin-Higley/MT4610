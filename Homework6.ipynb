{
 "cells": [
  {
   "cell_type": "code",
   "execution_count": 2,
   "metadata": {},
   "outputs": [],
   "source": [
    "import numpy as np\n",
    "\n",
    "# composite Simpson's rule\n",
    "def composite_simpson(f, a, b, n):\n",
    "    h = (b - a) / n\n",
    "    x = np.linspace(a, b, n+1)\n",
    "    y = f(x)\n",
    "    return h / 3 * np.sum(y[0:-1:2] + 4 * y[1::2] + y[2::2])\n",
    "\n",
    "# composite trapezoidal rule\n",
    "def composite_trapezoidal(f, a, b, n):\n",
    "    h = (b - a) / n\n",
    "    x = np.linspace(a, b, n+1)\n",
    "    y = f(x)\n",
    "    return h / 2 * np.sum(y[0:-1] + y[1:])"
   ]
  },
  {
   "cell_type": "markdown",
   "metadata": {},
   "source": [
    "Assignment 6 MATH 4610 \n",
    " \n",
    "Section 4.3  \n",
    " \n",
    "1.  \n",
    "(a) Approximate the following integrals using the Trapezoidal rule\n",
    "\n",
    "$$\\int_{-0.5}^{0}xln(x+1)\\,dx$$"
   ]
  },
  {
   "cell_type": "markdown",
   "metadata": {},
   "source": [
    "let $a = x_0 = -0.5, b = x_1 = 0, h = b - a = 0.5$\n",
    "\n",
    "$$\\int_{-0.5}^{0}xln(x+1)\\,dx \\approx \\frac{h}{2}\\left[f(x_0)+f(x_1)\\right] $$\n",
    "\n",
    "$$\\int_{-0.5}^{0}xln(x+1)\\,dx \\approx \\frac{0.5}{2}\\left[-0.5ln(-0.5+1)+0ln(0+1)\\right] $$\n",
    "\n",
    "$$\\int_{-0.5}^{0}xln(x+1)\\,dx \\approx -0.125ln(-0.5+1) $$\n",
    "\n",
    "$$\\int_{-0.5}^{0}xln(x+1)\\,dx \\approx -0.125ln(-0.5+1) $$\n",
    "\n",
    "$$\\int_{-0.5}^{0}xln(x+1)\\,dx \\approx -0.125ln(-0.5+1) $$\n",
    "\n",
    "$$\\int_{-0.5}^{0}xln(x+1)\\,dx \\approx -0.125ln(-0.5+1) $$\n",
    "\n",
    "$$\\int_{-0.5}^{0}xln(x+1)\\,dx \\approx -0.125ln(-0.5+1) $$"
   ]
  },
  {
   "cell_type": "markdown",
   "metadata": {},
   "source": [
    "(b) Find a bound for the error using the error formula, and compare this to the \n",
    "actual error. "
   ]
  },
  {
   "cell_type": "markdown",
   "metadata": {},
   "source": [
    "$$ \\frac{h^3}{12} f''(\\xi) $$\n",
    "\n",
    "$$ \\frac{0.5^3}{12} f''(\\xi) $$\n",
    "\n",
    "$$ \\frac{0.5^3}{12} \\frac{x+2}{(x+1)^2} $$\n",
    "\n",
    "------\n",
    "Using the upper bound of $-0.5$\n",
    "\n",
    "$$ \\frac{0.5^3}{12} \\frac{-0.5+2}{(-0.5+1)^2} $$\n",
    "\n",
    "$$ \\frac{0.5^3}{12} \\frac{1.5}{0.25} $$\n",
    "\n",
    "$$ \\frac{0.5^3}{12} \\frac{6}{1} =  0.0625$$\n",
    "\n",
    "-----\n",
    "Using the lower bound of $0$\n",
    "$$ \\frac{0.5^3}{12} \\frac{x+2}{(x+1)^2} $$\n",
    "\n",
    "$$ \\frac{0.5^3}{12} \\frac{2}{1} = 0.02083333 $$\n",
    "\n",
    "-------\n",
    "\n",
    "the error bound is $0.02083333, 0.0625$\n",
    "\n",
    "the actual error is $-0.03407359028$"
   ]
  },
  {
   "cell_type": "markdown",
   "metadata": {},
   "source": [
    "\\\\"
   ]
  },
  {
   "cell_type": "markdown",
   "metadata": {},
   "source": [
    "2.\n",
    "(a) Approximate the following integrals using the Simpson’s rule.\n",
    "\n",
    "$$\\int_{-0.5}^{0}xln(x+1)\\,dx$$"
   ]
  },
  {
   "cell_type": "markdown",
   "metadata": {},
   "source": [
    "let $a = x_0 = -0.5, b = x_2 = 0, h = (b - a)/2 = 0.25, x_1 = -0.25$\n",
    "\n",
    "$$\\int_{-0.5}^{0}xln(x+1)\\,dx \\approx \\frac{h}{3}\\left[f(x_0)+4f(x_1)+f(x_2)\\right] $$\n",
    "\n",
    "$$\\int_{-0.5}^{0}xln(x+1)\\,dx \\approx \\frac{0.25}{3}\\left[-0.5ln(-0.5+1)+(-ln(-0.25+1))+0ln(0+1)\\right] $$\n",
    "\n",
    "$$\\int_{-0.5}^{0}xln(x+1)\\,dx \\approx \\frac{0.25}{3}\\left[-0.5ln(0.5) +(-0.25ln(0.75))\\right]$$\n",
    "\n",
    "$$\\int_{-0.5}^{0}xln(x+1)\\,dx \\approx 0.052854638561$$"
   ]
  },
  {
   "cell_type": "markdown",
   "metadata": {},
   "source": [
    " (b) Find a bound for the error using the error formula, and compare this to the \n",
    "actual error. "
   ]
  },
  {
   "cell_type": "markdown",
   "metadata": {},
   "source": [
    "$$ \\frac{h^5}{90} f^{(4)}(\\xi) $$\n",
    "\n",
    "$$ \\frac{0.5^5}{90} f^{(4)}(\\xi) $$\n",
    "\n",
    "$$ \\frac{0.5^5}{90} f^{(4)}(\\xi) $$\n",
    "\n",
    "$$ \\frac{0.5^5}{90} \\frac{2x+4}{(x+1)^4} $$\n",
    "\n",
    "------\n",
    "the upper bound is -0.5\n",
    "\n",
    "$$ \\frac{0.25^5}{90} \\frac{2(-0.5)+4}{(-0.5+1)^4} $$\n",
    "\n",
    "$$ \\frac{0.25^5}{90} \\frac{4}{0.25} $$\n",
    "\n",
    "$$ \\frac{0.25^5}{90} \\frac{16}{1} $$\n",
    "\n",
    "$$ \\frac{0.25^5}{90} \\frac{16}{1} = 0.000173611111111 $$\n",
    "\n",
    "-----\n",
    "the lower bound is 0\n",
    "\n",
    "$$ \\frac{0.25^5}{90} \\frac{2(0)+4}{(0+1)^4} $$\n",
    "\n",
    "$$ \\frac{0.25^5}{90} \\frac{4}{1} $$\n",
    "\n",
    "$$ \\frac{0.25^5}{90} \\frac{4}{1} = 0.0000434027777778 $$\n",
    "\n",
    "-------\n",
    "the error bound is $0.0000434027777778, 0.000173611111111$\n",
    "\n",
    "the actual error is $-0.000284831270979$"
   ]
  },
  {
   "cell_type": "markdown",
   "metadata": {},
   "source": [
    "\\\\"
   ]
  },
  {
   "cell_type": "markdown",
   "metadata": {},
   "source": [
    "**Section 4.4**\n",
    "1.  Approximate $\\int_0^2 x^2e^{-x^2}\\,dx$ using $h=0.25$.\n",
    "\n",
    "\n",
    "\n",
    "\n",
    "\n",
    "\n",
    "(a) Composite trapezoidal rule\n",
    "\n",
    "$h = (b-a)/n = 0.25$\n",
    "\n",
    "(b) Composite Simpson’s rule\n",
    "\n",
    "$h = (2-0)/n = 0.25$\n",
    "\n",
    "n = 8"
   ]
  },
  {
   "cell_type": "code",
   "execution_count": 1,
   "metadata": {},
   "outputs": [
    {
     "ename": "NameError",
     "evalue": "name 'composite_trapezoidal' is not defined",
     "output_type": "error",
     "traceback": [
      "\u001b[0;31m---------------------------------------------------------------------------\u001b[0m",
      "\u001b[0;31mNameError\u001b[0m                                 Traceback (most recent call last)",
      "\u001b[1;32m/Users/quentinhigley/Documents/homework/MT4610/Homework6.ipynb Cell 13\u001b[0m in \u001b[0;36m<cell line: 4>\u001b[0;34m()\u001b[0m\n\u001b[1;32m      <a href='vscode-notebook-cell:/Users/quentinhigley/Documents/homework/MT4610/Homework6.ipynb#X15sZmlsZQ%3D%3D?line=0'>1</a>\u001b[0m \u001b[39mdef\u001b[39;00m \u001b[39mf\u001b[39m(x):\n\u001b[1;32m      <a href='vscode-notebook-cell:/Users/quentinhigley/Documents/homework/MT4610/Homework6.ipynb#X15sZmlsZQ%3D%3D?line=1'>2</a>\u001b[0m     \u001b[39mreturn\u001b[39;00m np\u001b[39m.\u001b[39mexp(\u001b[39m-\u001b[39mx\u001b[39m*\u001b[39m\u001b[39m*\u001b[39m\u001b[39m2\u001b[39m)\u001b[39m*\u001b[39mx\u001b[39m*\u001b[39m\u001b[39m*\u001b[39m\u001b[39m2\u001b[39m\n\u001b[0;32m----> <a href='vscode-notebook-cell:/Users/quentinhigley/Documents/homework/MT4610/Homework6.ipynb#X15sZmlsZQ%3D%3D?line=3'>4</a>\u001b[0m \u001b[39mprint\u001b[39m(\u001b[39mf\u001b[39m\u001b[39m'\u001b[39m\u001b[39mComposite Trapezoidal: \u001b[39m\u001b[39m{\u001b[39;00mcomposite_trapezoidal(f, \u001b[39m0\u001b[39m, \u001b[39m2\u001b[39m, \u001b[39m185\u001b[39m)\u001b[39m}\u001b[39;00m\u001b[39m'\u001b[39m)\n",
      "\u001b[0;31mNameError\u001b[0m: name 'composite_trapezoidal' is not defined"
     ]
    }
   ],
   "source": [
    "def f(x):\n",
    "    return np.exp(-x**2)*x**2\n",
    "\n",
    "print(f'Composite Trapezoidal: {composite_trapezoidal(f, 0, 2, 8)}')\n",
    "print(f'Composite Simpson: {composite_simpson(f, 0, 2, 8)}')\n"
   ]
  },
  {
   "cell_type": "markdown",
   "metadata": {},
   "source": [
    "2. determine the values of $n$ and $h$ required to approximate $\\int_1^2 xlnx \\,dx$ to within $10^{-5}$ and compute the approximations. Use\n",
    "\n",
    "(a) Composite trapezoidal rule\n",
    "\n",
    "(b) Composite Simpson’s rule"
   ]
  },
  {
   "cell_type": "markdown",
   "metadata": {},
   "source": [
    "a) \n",
    "\n",
    "$\\frac{b-a}{12} h^2 f''(\\mu)$\n",
    "\n",
    "$\\frac{2-1}{12} h^2 \\frac{1}{\\mu}$\n",
    "\n",
    "$\\frac{h^2}{12} \\frac{1}{\\mu} \\le \\frac{h^2}{12} \\le 10^{-5}$\n",
    "\n",
    "$ h = \\frac{1}{n} $\n",
    "\n",
    "$  \\frac{1}{12n^2} \\le 10^{-5}$\n",
    "\n",
    "$ n \\le 91.25 $\n",
    "\n",
    "-----\n",
    "b)\n",
    "\n",
    "$\\frac{b-a}{180} h^4 f^{(4)}(\\mu)$\n",
    "\n",
    "$\\frac{2-1}{180} h^4 \\frac{1}{\\mu^3}$\n",
    "\n",
    "$\\frac{h^4}{180} \\frac{1}{\\mu^3} \\le \\frac{h^4}{180} \\le 10^{-5}$\n",
    "\n",
    "$ h = \\frac{1}{n} $\n",
    "\n",
    "$  \\frac{1}{180n^4} \\le 10^{-5}$\n",
    "\n",
    "$ n \\le 4.85 $\n",
    "\n",
    "because $n$ is close to 5, we can use $n=5$ however, since Simpson's rule needs n to be an even number we will use $n = 6$."
   ]
  },
  {
   "cell_type": "code",
   "execution_count": 4,
   "metadata": {},
   "outputs": [
    {
     "name": "stdout",
     "output_type": "stream",
     "text": [
      "Composite Trapezoidal: 0.8820785057283556\n",
      "Composite Simpson's  0.882031574954721\n"
     ]
    }
   ],
   "source": [
    "print(f'Composite Trapezoidal: {composite_trapezoidal(f, 0, 2, 92)}')\n",
    "print(f'Composite Simpson\\'s  {composite_simpson(f, 0, 2, 6)}')"
   ]
  }
 ],
 "metadata": {
  "kernelspec": {
   "display_name": "Python 3.10.6 ('dataPy')",
   "language": "python",
   "name": "python3"
  },
  "language_info": {
   "codemirror_mode": {
    "name": "ipython",
    "version": 3
   },
   "file_extension": ".py",
   "mimetype": "text/x-python",
   "name": "python",
   "nbconvert_exporter": "python",
   "pygments_lexer": "ipython3",
   "version": "3.10.6"
  },
  "orig_nbformat": 4,
  "vscode": {
   "interpreter": {
    "hash": "8a2c1878e4d84f64cd2870bb3bdfdca84a9c1b9fce17f2d18b072f326e75f6cf"
   }
  }
 },
 "nbformat": 4,
 "nbformat_minor": 2
}
