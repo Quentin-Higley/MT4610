{
 "cells": [
  {
   "cell_type": "code",
   "execution_count": 1,
   "metadata": {},
   "outputs": [],
   "source": [
    "import numpy as np\n",
    "import numericalMethods as nm"
   ]
  },
  {
   "cell_type": "code",
   "execution_count": 4,
   "metadata": {},
   "outputs": [
    {
     "data": {
      "text/plain": [
       "array([ 1. ,  0.5, -1. ])"
      ]
     },
     "execution_count": 4,
     "metadata": {},
     "output_type": "execute_result"
    }
   ],
   "source": [
    "A = np.array([[3.333, 15920, 10.333, 7953], [2.222, 16.71, 9.612, 0.965], [-1.5611, 5.1792, -1.6855, 2.714]])\n",
    "nm.GaussianElimination(A)\n",
    "nm.PartialPivoting(A)\n",
    "nm.ScaledPartialPivoting(A)"
   ]
  },
  {
   "cell_type": "code",
   "execution_count": 16,
   "metadata": {},
   "outputs": [
    {
     "data": {
      "text/plain": [
       "array([0.        , 5.        , 2.28571429, 2.08      ])"
      ]
     },
     "execution_count": 16,
     "metadata": {},
     "output_type": "execute_result"
    }
   ],
   "source": [
    "A = np.array([[2,1,0,0], [-1,3,3,0],[2,-2,1,4],[-2,2,2,5]])\n",
    "L, U = nm.LUdecomposition(A)\n",
    "b = np.array([0,5,-2,6]).reshape(4,1)\n",
    "L = np.hstack((L,b))\n",
    "nm.ScaledPartialPivoting(L)"
   ]
  },
  {
   "cell_type": "code",
   "execution_count": 50,
   "metadata": {},
   "outputs": [
    {
     "name": "stdout",
     "output_type": "stream",
     "text": [
      "[[ 2  1  4  1]\n",
      " [ 1 -2  2 -2]\n",
      " [ 1 -2  3  0]\n",
      " [ 3 -6  9  3]]\n"
     ]
    },
    {
     "data": {
      "text/plain": [
       "(array([[1. , 0. , 0. , 0. ],\n",
       "        [0.5, 1. , 0. , 0. ],\n",
       "        [0.5, 1. , 1. , 0. ],\n",
       "        [1.5, 3. , 3. , 1. ]]),\n",
       " array([[ 2. ,  1. ,  4. ,  1. ],\n",
       "        [ 0. , -2.5,  0. , -2.5],\n",
       "        [ 0. ,  0. ,  1. ,  2. ],\n",
       "        [ 0. ,  0. ,  0. ,  3. ]]))"
      ]
     },
     "execution_count": 50,
     "metadata": {},
     "output_type": "execute_result"
    }
   ],
   "source": [
    "A = np.array([[1,-2,3,0], [3,-6,9,3],[2,1,4,1],[1,-2,2,-2]])\n",
    "np.random.shuffle(A)\n",
    "print(A)\n",
    "nm.LUdecomposition(A)"
   ]
  },
  {
   "cell_type": "code",
   "execution_count": 19,
   "metadata": {},
   "outputs": [
    {
     "data": {
      "text/plain": [
       "(array([[ 2.        ,  0.        ,  0.        ],\n",
       "        [-0.5       ,  1.6583124 ,  0.        ],\n",
       "        [ 0.5       ,  0.15075567,  1.31425748]]),\n",
       " array([[ 2.        , -0.5       ,  0.5       ],\n",
       "        [ 0.        ,  1.6583124 ,  0.15075567],\n",
       "        [ 0.        ,  0.        ,  1.31425748]]))"
      ]
     },
     "execution_count": 19,
     "metadata": {},
     "output_type": "execute_result"
    }
   ],
   "source": [
    "A = np.array([[4,-1,1],[-1,3,0],[1,0,2]])\n",
    "nm.LDLdecomposition(A)\n",
    "nm.CholeskyDecomposition(A)"
   ]
  }
 ],
 "metadata": {
  "kernelspec": {
   "display_name": "Python 3.10.6 ('dataPy')",
   "language": "python",
   "name": "python3"
  },
  "language_info": {
   "codemirror_mode": {
    "name": "ipython",
    "version": 3
   },
   "file_extension": ".py",
   "mimetype": "text/x-python",
   "name": "python",
   "nbconvert_exporter": "python",
   "pygments_lexer": "ipython3",
   "version": "3.10.6"
  },
  "orig_nbformat": 4,
  "vscode": {
   "interpreter": {
    "hash": "8a2c1878e4d84f64cd2870bb3bdfdca84a9c1b9fce17f2d18b072f326e75f6cf"
   }
  }
 },
 "nbformat": 4,
 "nbformat_minor": 2
}
