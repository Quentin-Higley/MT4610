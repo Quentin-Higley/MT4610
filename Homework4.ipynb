{
 "cells": [
  {
   "cell_type": "code",
   "execution_count": 5,
   "metadata": {},
   "outputs": [],
   "source": [
    "import numpy as np"
   ]
  },
  {
   "cell_type": "code",
   "execution_count": 6,
   "metadata": {},
   "outputs": [],
   "source": [
    "# Newton's Divided Difference\n",
    "def dividedDifference(x, y):\n",
    "    \"\"\"\n",
    "    Newton's divided difference algorithm.\n",
    "    \"\"\"\n",
    "    n = len(x)\n",
    "    coef = np.zeros((n,n))\n",
    "    coef[:,0] = y\n",
    "    for j in range(1,n):\n",
    "        for i in range(n-j):\n",
    "            coef[i][j] = (coef[i+1][j-1] - coef[i][j-1])/(x[i+j] - x[i])\n",
    "    return coef"
   ]
  },
  {
   "cell_type": "code",
   "execution_count": 7,
   "metadata": {},
   "outputs": [],
   "source": [
    "### Neville's Interpolation\n",
    "def nevilleInterpolation(x, y, z):\n",
    "    \"\"\"\n",
    "    Neville's method for interpolating a function y(x) at a point z.\n",
    "    \"\"\"\n",
    "    n = len(x)\n",
    "    if len(y) != n:\n",
    "        raise ValueError(\"x and y must have the same length.\")\n",
    "    coef = np.zeros((n, n))\n",
    "    coef[:, 0] = y\n",
    "    for j in range(1, n):\n",
    "        for i in range(j, n):\n",
    "            coef[i, j] = ((z - x[i - j])*coef[i, j - 1] + (x[i] - z)*coef[i - 1, j - 1])/(x[i] - x[i - j])\n",
    "    return coef"
   ]
  },
  {
   "cell_type": "markdown",
   "metadata": {},
   "source": [
    "#### 1. Use appropriate Lagrange interpolating polynomials of degrees one, two, and three to approximate the following: $f (0.43)$ if $f (0) = 1, f (0.25) = 1.64872, f (0.5) = 2.71828,f (0.75) = 4.48169$."
   ]
  },
  {
   "cell_type": "markdown",
   "metadata": {},
   "source": [
    "\n",
    "##### $P_1(x) = \\frac{x-x_1}{x_0-x_1}f(x_0) + \\frac{x-x_0}{x_1-x_0}f(x_1)$\n",
    "##### $x = 0.43, x_0 = f(0.25), x_1 = f(0.5)$\n",
    "##### $\\implies \\frac{0.43-0.5}{0.25-0.5}f(0.25) + \\frac{0.43 - 0.25}{0.5-0.25}f(0.5)$\n",
    "##### $\\implies 0.28 * 1.64872 + 0.72 * 2.71828$\n",
    "##### $\\implies f(0.43) = 2.41918$"
   ]
  },
  {
   "cell_type": "markdown",
   "metadata": {},
   "source": [
    "#### $L_0, L_1, L_2$\n",
    "\n",
    "#### $L_0(x) = \\frac{(x-0.5)(x-0.75)}{(0.25-0.5)(0.25-0.75)}$\n",
    "#### $= 8(x-0.5)(x-0.75)$\n",
    "#### $L_1(x) = \\frac{(x-0.25)(x-0.75)}{(0.5-0.25)(0.5-0.75)}$\n",
    "#### $= -16(x-0.25)(x-0.75)$\n",
    "#### $L_2(x) = \\frac{(x-0.25)(x-0.5)}{(0.75-0.25)(0.75-0.5)}$\n",
    "#### $= 8(x-0.25)(x-0.5)$\n",
    "#### $L_0(0.43) + L_1(0.43) + L_2(0.43) = 2.34886$\n",
    "\n",
    "\n",
    "#### $L_0,L_1,L_2,L_3$\n",
    "\n",
    "#### $L_0(x) = \\frac{(x-0.25)(x-0.5)(x-0.75)}{(0-0.25)(0-0.5)(0-0.75)}$\n",
    "#### $= -\\frac{32}{3}(x-0.25)(x-0.5)(x-0.75)$\n",
    "#### $L_1(x) = \\frac{(x-0)(x-0.5)(x-0.75)}{(0.25-0)(0.25-0.5)(0.25-0.75)}$\n",
    "#### $= 32(x-0)(x-0.5)(x-0.75)$\n",
    "#### $L_2(x) = \\frac{(x-0)(x-0.25)(x-0.75)}{(0.5-0)(0.5-0.25)(0.5-0.75)}$\n",
    "#### $= -32(x-0)(x-0.25)(x-0.75)$\n",
    "#### $L_3(x) = \\frac{(x-0)(x-0.25)(x-0.5)}{(0.75-0)(0.75-0.25)(0.75-0.5)}$\n",
    "#### $= \\frac{32}{3}(x-0)(x-0.25)(x-0.5)$\n",
    "#### $L_0(0.43) + L_1(0.43) + L_2(0.43) + L_3(0.43) = 2.36060$\n"
   ]
  },
  {
   "cell_type": "markdown",
   "metadata": {},
   "source": [
    "#### 2. The data for problem 3 (previous problem) were generated using the function $y = e^{2x}$. Use the error formula to find a bound for the error, and compare the bound to the actual error for the cases $n = 1$ and $n = 2$."
   ]
  },
  {
   "cell_type": "markdown",
   "metadata": {},
   "source": [
    "#### for  $n = 1$\n",
    "#### $E \\le \\frac{f''(\\epsilon(x))}{2!}(x-x_0)(x-x1)$\n",
    "#### $\\implies E \\le \\frac{4e^{2\\epsilon(x)}}{2!}(x-0)(x-.25)$\n",
    "#### $\\implies E \\le 2e^{2\\epsilon(x)}(x)(x-0.25)$\n",
    "#### $\\implies E \\le 2e^{2(.5)}(x^2 - 0.25x)$\n",
    "#### $\\implies E \\le 0.68$\n",
    "\n",
    "#### actual error \n",
    "#### $f(0.43) - e^{2*0.43}$\n",
    "#### $= 1 + 2.41918(0.43) - 2.3631$\n",
    "#### $= 0.24736$\n",
    "\n",
    "#### for $n = 2$\n",
    "#### $E \\le \\frac{f''(\\epsilon(x))}{3!}(x-x_0)(x-x1)(x-x_2)$\n",
    "#### $\\implies E \\le \\frac{8e^{2\\epsilon(x)}}{3!}(x-0)(x-.25)(x-.5)$\n",
    "#### $\\implies E \\le \\frac{4}{3}e^{2\\epsilon(x)}(x)(x-0.25)(x-0.5)$\n",
    "#### $\\implies E \\le \\frac{4}{3}e^{2(.5)}(x^3 - 0.25x^2 - 0.125x)$\n",
    "#### $\\implies E \\le 0.0217$\n",
    "\n",
    "#### actual error\n",
    "#### $f(0.43) - 2.363$\n",
    "#### $= 0.013$"
   ]
  },
  {
   "cell_type": "markdown",
   "metadata": {},
   "source": [
    "#### 3. Use Neville’s method to obtain the approximations for Lagrange interpolating polynomials of degrees one, two, and three to approximate each of the following: $f (0.43)$ if $f (0) = 1,f (0.25) = 1.64872, f (0.5) = 2.71828, f (0.75) = 4.48169$."
   ]
  },
  {
   "cell_type": "code",
   "execution_count": 8,
   "metadata": {},
   "outputs": [
    {
     "data": {
      "text/plain": [
       "array([[1.        , 0.        , 0.        , 0.        ],\n",
       "       [1.64872   , 2.1157984 , 0.        , 0.        ],\n",
       "       [2.71828   , 2.4188032 , 2.37638253, 0.        ],\n",
       "       [4.48169   , 2.2245252 , 2.34886312, 2.36060473]])"
      ]
     },
     "execution_count": 8,
     "metadata": {},
     "output_type": "execute_result"
    }
   ],
   "source": [
    "x = np.array([0, 0.25, 0.5, 0.75])\n",
    "y = np.array([1, 1.64872, 2.71828, 4.48169])\n",
    "nevilleInterpolation(x, y, 0.43)"
   ]
  },
  {
   "cell_type": "markdown",
   "metadata": {},
   "source": [
    "#### 4. Neville’s method is used to approximate $f (0.5)$, giving the following table. \n",
    "|$x_0=0$|$P_0=0$|||\n",
    "|:---|:---:|:---:|---:|\n",
    "|$x_1=0.4$|$P_1=2.8$|$P_{0,1} = 3.5$||\n",
    "|$x_2=0.7$|$P_2=$|$P_{1,2} = $|$P_{0,1,2} = \\frac{22}{7}$|\n",
    "#### Determine $P_2= f (0.7)$"
   ]
  },
  {
   "cell_type": "code",
   "execution_count": 9,
   "metadata": {},
   "outputs": [
    {
     "data": {
      "text/plain": [
       "array([[1.      , 0.      , 0.      ],\n",
       "       [1.49182 , 1.860685, 0.      ],\n",
       "       [1.64872 , 1.64872 , 1.64872 ]])"
      ]
     },
     "execution_count": 9,
     "metadata": {},
     "output_type": "execute_result"
    }
   ],
   "source": [
    "x = np.array([0 , .4, .7])\n",
    "y = np.array([1, 1.49182, 1.64872])\n",
    "nevilleInterpolation(x, y, 0.7)"
   ]
  },
  {
   "cell_type": "markdown",
   "metadata": {},
   "source": [
    "#### 5. Use Eq. (3.10) or Algorithm3.2 to construct interpolating polynomials of degree one, two, and three for the following data. Approximate the specified value using each of the polynomials. $f (0.43)$ if $f (0) = 1, f (0.25) = 1.64872, f (0.5) = 2.71828, f (0.75) = 4.48169$"
   ]
  },
  {
   "cell_type": "code",
   "execution_count": 10,
   "metadata": {},
   "outputs": [
    {
     "data": {
      "text/plain": [
       "array([[1.        , 2.59488   , 3.36672   , 2.91210667],\n",
       "       [1.64872   , 4.27824   , 5.5508    , 0.        ],\n",
       "       [2.71828   , 7.05364   , 0.        , 0.        ],\n",
       "       [4.48169   , 0.        , 0.        , 0.        ]])"
      ]
     },
     "execution_count": 10,
     "metadata": {},
     "output_type": "execute_result"
    }
   ],
   "source": [
    "x = np.array([0, .25, .5, .75])\n",
    "y = np.array([1, 1.64872, 2.71828, 4.48169])\n",
    "dividedDifference(x, y)"
   ]
  },
  {
   "cell_type": "markdown",
   "metadata": {},
   "source": [
    "#### 6. Use Algorithm 3.2 to construct the interpolating polynomial of degree three for the unequally spaced points given in the following table\n",
    "|$x$|$f(x)$|\n",
    "|:---|---:|\n",
    "|$-0.1$|$5.3$|\n",
    "|$0$|$2$|\n",
    "|$0.2$|$3.19$|\n",
    "|$0.3$|$1$|"
   ]
  },
  {
   "cell_type": "code",
   "execution_count": 11,
   "metadata": {},
   "outputs": [
    {
     "data": {
      "text/plain": [
       "array([[  5.3, -33. ],\n",
       "       [  2. ,   0. ]])"
      ]
     },
     "execution_count": 11,
     "metadata": {},
     "output_type": "execute_result"
    }
   ],
   "source": [
    "x = np.array([-0.1, 0])\n",
    "y = np.array([5.3, 2])\n",
    "dividedDifference(x, y)"
   ]
  }
 ],
 "metadata": {
  "kernelspec": {
   "display_name": "Python 3.10.6 ('dataPy')",
   "language": "python",
   "name": "python3"
  },
  "language_info": {
   "codemirror_mode": {
    "name": "ipython",
    "version": 3
   },
   "file_extension": ".py",
   "mimetype": "text/x-python",
   "name": "python",
   "nbconvert_exporter": "python",
   "pygments_lexer": "ipython3",
   "version": "3.10.6"
  },
  "orig_nbformat": 4,
  "vscode": {
   "interpreter": {
    "hash": "8a2c1878e4d84f64cd2870bb3bdfdca84a9c1b9fce17f2d18b072f326e75f6cf"
   }
  }
 },
 "nbformat": 4,
 "nbformat_minor": 2
}
