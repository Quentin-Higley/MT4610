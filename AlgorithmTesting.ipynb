{
 "cells": [
  {
   "cell_type": "code",
   "execution_count": 2,
   "metadata": {},
   "outputs": [],
   "source": [
    "import numpy as np"
   ]
  },
  {
   "cell_type": "code",
   "execution_count": null,
   "metadata": {},
   "outputs": [],
   "source": [
    "def isDiagonallyDominant(A):\n",
    "    for i in range(A.shape[0]):\n",
    "        if abs(A[i, i]) < np.sum(abs(A[i, :])) - abs(A[i, i]):\n",
    "            return False\n",
    "    return True"
   ]
  },
  {
   "cell_type": "code",
   "execution_count": 35,
   "metadata": {},
   "outputs": [],
   "source": [
    "# returns the spectral radius of a matrix\n",
    "def spectral_radius(A:np.array):\n",
    "    if A.shape[0] != A.shape[1]:\n",
    "        raise ValueError(\"Matrix must be square\")\n",
    "    return np.max(np.abs(np.linalg.eigvals(A)))"
   ]
  },
  {
   "cell_type": "code",
   "execution_count": 53,
   "metadata": {},
   "outputs": [
    {
     "name": "stdout",
     "output_type": "stream",
     "text": [
      "[[1.         0.         1.16666667 1.66666667]\n",
      " [0.09090909 1.         0.63636364 0.54545455]\n",
      " [0.75       1.75       1.         0.25      ]\n",
      " [4.5        6.5        2.5        1.        ]]\n"
     ]
    },
    {
     "data": {
      "text/plain": [
       "4.98698373947921"
      ]
     },
     "execution_count": 53,
     "metadata": {},
     "output_type": "execute_result"
    }
   ],
   "source": [
    "A = np.array([[6, 0, 7, 10], [1, 11, 7, 6], [3, 7, 4, 1], [9, 13, 5, 2]], dtype=np.float64)\n",
    "for i in range(A.shape[0]):\n",
    "     A[i,:] = (A[i,:] / A[i,i])\n",
    "print(A)\n",
    "spectral_radius(A)"
   ]
  },
  {
   "cell_type": "code",
   "execution_count": 6,
   "metadata": {},
   "outputs": [],
   "source": [
    "#Jacobi Iteration\n",
    "def JacobiIteration(A: np.array, b:np.array, tol:float = 1e-10, maxIter:int = 1000):\n",
    "    A = np.array(A, dtype=np.float64)\n",
    "    x = np.zeros_like(b, dtype=np.float64) #initial guess\n",
    "    T = A - np.diag(np.diag(A)) #T = A - D\n",
    "    for k in range(maxIter):\n",
    "        x_old = x.copy()\n",
    "        x[:] = (b - np.dot(T, x)) / np.diag(A)\n",
    "        if np.linalg.norm(x - x_old, np.inf) < tol:\n",
    "            return x\n",
    "    return x"
   ]
  },
  {
   "cell_type": "code",
   "execution_count": 9,
   "metadata": {},
   "outputs": [
    {
     "data": {
      "text/plain": [
       "array([ 1.,  2., -1.,  1.])"
      ]
     },
     "execution_count": 9,
     "metadata": {},
     "output_type": "execute_result"
    }
   ],
   "source": [
    "A = np.array([[2, 1], [5, 7]])\n",
    "b = np.array([11, 13])\n",
    "A = np.array([[10, -1, 2, 0], [-1, 11, -1, 3], [2, -1, 10, -1], [0, 3, -1, 8]])\n",
    "b = np.array([6, 25, -11, 15])\n",
    "JacobiIteration(A, b)"
   ]
  },
  {
   "cell_type": "code",
   "execution_count": 10,
   "metadata": {},
   "outputs": [],
   "source": [
    "#Gauss-Seidel Iteration\n",
    "def GaussSeidelIteration(A: np.array, b:np.array, tol:float = 1e-10, maxIter:int = 1000):\n",
    "    A = np.array(A, dtype=np.float64)\n",
    "    x = np.zeros_like(b, dtype=np.float64) #initial guess\n",
    "    i = 0\n",
    "    for k in range(maxIter):\n",
    "        i += 1\n",
    "        x_old = x.copy()\n",
    "        for i in range(A.shape[0]):\n",
    "            x[i] = (b[i] - np.dot(A[i, :i], x[:i]) - np.dot(A[i, i+1:], x_old[i+1:])) / A[i, i]\n",
    "        if np.linalg.norm(x - x_old, np.inf) < tol:\n",
    "            return x\n",
    "    return x"
   ]
  },
  {
   "cell_type": "code",
   "execution_count": 11,
   "metadata": {},
   "outputs": [
    {
     "data": {
      "text/plain": [
       "array([ 0.81218274, -0.66497462])"
      ]
     },
     "execution_count": 11,
     "metadata": {},
     "output_type": "execute_result"
    }
   ],
   "source": [
    "A = np.array([[16, 3], [7, -11]])\n",
    "b = np.array([11, 13])\n",
    "GaussSeidelIteration(A, b)"
   ]
  },
  {
   "cell_type": "code",
   "execution_count": null,
   "metadata": {},
   "outputs": [],
   "source": [
    "#Successive Over-Relaxation\n",
    "def SOR():\n",
    "    pass"
   ]
  },
  {
   "cell_type": "code",
   "execution_count": null,
   "metadata": {},
   "outputs": [],
   "source": [
    "#Iterative Refinement\n",
    "def IterativeRefinement():\n",
    "    pass"
   ]
  }
 ],
 "metadata": {
  "kernelspec": {
   "display_name": "Python 3.10.6 ('dataPy')",
   "language": "python",
   "name": "python3"
  },
  "language_info": {
   "codemirror_mode": {
    "name": "ipython",
    "version": 3
   },
   "file_extension": ".py",
   "mimetype": "text/x-python",
   "name": "python",
   "nbconvert_exporter": "python",
   "pygments_lexer": "ipython3",
   "version": "3.10.6 | packaged by conda-forge | (main, Aug 22 2022, 20:38:29) [Clang 13.0.1 ]"
  },
  "orig_nbformat": 4,
  "vscode": {
   "interpreter": {
    "hash": "8a2c1878e4d84f64cd2870bb3bdfdca84a9c1b9fce17f2d18b072f326e75f6cf"
   }
  }
 },
 "nbformat": 4,
 "nbformat_minor": 2
}
