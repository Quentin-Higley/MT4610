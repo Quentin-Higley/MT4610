{
 "cells": [
  {
   "cell_type": "code",
   "execution_count": 10,
   "metadata": {},
   "outputs": [],
   "source": [
    "import numpy as np"
   ]
  },
  {
   "cell_type": "code",
   "execution_count": 21,
   "metadata": {},
   "outputs": [],
   "source": [
    "#Jacobi Iterative Technique\n",
    "\n",
    "def Jacobi(A, b, tol = 1e-10, maxiter = 1e5):\n",
    "    x = np.zeros_like(b, dtype = np.float64)\n",
    "    T = A  - np.diag(np.diag(A))\n",
    "    for k in range(maxiter):\n",
    "        x_old = x.copy()\n",
    "        x[:] = (b - np.dot(T, x)) / np.diag(A)\n",
    "        if np.linalg.norm(x - x_old) < tol:\n",
    "            break\n",
    "    return x"
   ]
  },
  {
   "cell_type": "code",
   "execution_count": 22,
   "metadata": {},
   "outputs": [
    {
     "data": {
      "text/plain": [
       "array([ 1.04046799,  1.99095489, -1.2067414 ,  0.97748876])"
      ]
     },
     "execution_count": 22,
     "metadata": {},
     "output_type": "execute_result"
    }
   ],
   "source": [
    "A = np.array([[10, -1, 2, 0], [-1, 11, -1, 3], [2, -1, 10, 1], [0, 3, -1, 8]])\n",
    "b = np.array([6, 25, -11, 15])\n",
    "x0 = np.array([0, 0, 0, 0])\n",
    "Jacobi(A, b, 1e-6, 10)"
   ]
  },
  {
   "cell_type": "code",
   "execution_count": null,
   "metadata": {},
   "outputs": [],
   "source": []
  }
 ],
 "metadata": {
  "kernelspec": {
   "display_name": "Python 3.10.6 ('dataPy')",
   "language": "python",
   "name": "python3"
  },
  "language_info": {
   "codemirror_mode": {
    "name": "ipython",
    "version": 3
   },
   "file_extension": ".py",
   "mimetype": "text/x-python",
   "name": "python",
   "nbconvert_exporter": "python",
   "pygments_lexer": "ipython3",
   "version": "3.10.6 | packaged by conda-forge | (main, Aug 22 2022, 20:38:29) [Clang 13.0.1 ]"
  },
  "orig_nbformat": 4,
  "vscode": {
   "interpreter": {
    "hash": "8a2c1878e4d84f64cd2870bb3bdfdca84a9c1b9fce17f2d18b072f326e75f6cf"
   }
  }
 },
 "nbformat": 4,
 "nbformat_minor": 2
}
