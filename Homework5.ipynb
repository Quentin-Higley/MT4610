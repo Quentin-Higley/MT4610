{
 "cells": [
  {
   "cell_type": "markdown",
   "metadata": {},
   "source": [
    "# Numerical Analysis Math 4610\n",
    "\n",
    "## Assignment 5\n",
    "\n",
    "-----\n",
    "\n",
    "#### Supporting Functions"
   ]
  },
  {
   "cell_type": "code",
   "execution_count": 1,
   "metadata": {},
   "outputs": [],
   "source": [
    "#imports and settings\n",
    "import numpy as np\n",
    "np.set_printoptions(suppress=True, linewidth=1000, precision=2)"
   ]
  },
  {
   "cell_type": "code",
   "execution_count": 2,
   "metadata": {},
   "outputs": [],
   "source": [
    "#returns the the absolute error of the approximation\n",
    "def absoluteError(f1, f2, x_0):\n",
    "    return abs(f1(x_0) - f2(x_0))"
   ]
  },
  {
   "cell_type": "code",
   "execution_count": 10,
   "metadata": {},
   "outputs": [],
   "source": [
    "#Hermite Cubic Spline\n",
    "def HermiteInterpolation(x,y,dy):\n",
    "    \"\"\"\n",
    "    Hermite Interpolation\n",
    "\n",
    "    Args:\n",
    "        x (np.array): ordinal values\n",
    "        y (np.array): function values\n",
    "        dy (np.array): derivative values\n",
    "\n",
    "    Returns:\n",
    "        np.array: coefficients of the Hermite polynomial\n",
    "    \"\"\"\n",
    "    n = len(x)\n",
    "    X = np.repeat(x,2)\n",
    "    Y = np.repeat(y,2)\n",
    "    q = np.zeros((2*n,2*n+1))\n",
    "\n",
    "    for i in range(0, 2 * n, 2):\n",
    "        idx = i//2\n",
    "        q[i][0] = x[idx]\n",
    "        q[i+1][0] = x[idx]\n",
    "        q[i][1] = y[idx]\n",
    "        q[i+1][1] = y[idx]\n",
    "\n",
    "    for i in range(2, 2*n+1):\n",
    "        for j in range(1+(i-2), 2*n):\n",
    "            if i == 2 and j%2 == 1:\n",
    "                q[j][i] = dy[j//2]\n",
    "            else:\n",
    "                q[j][i] = (q[j][i-1] - q[j-1][i-1]) / (q[j][0] - q[(j-1)-(i-2)][0])\n",
    "    return q"
   ]
  },
  {
   "cell_type": "code",
   "execution_count": 11,
   "metadata": {},
   "outputs": [],
   "source": [
    "#Cubic Spline Interpolation\n",
    "def CubicSpline(x,a):\n",
    "    \"\"\"_summary_\n",
    "\n",
    "    Args:\n",
    "        x (np.array): ordinal values\n",
    "        a (np.array): function values\n",
    "\n",
    "    Returns:\n",
    "        np.array: coefficients of the cubic spline polynomial\n",
    "    \"\"\"\n",
    "    n = len(x)\n",
    "    h = np.diff(x)\n",
    "    \n",
    "    alpha = np.zeros(n)\n",
    "    \n",
    "    for i in range(1, n-1):\n",
    "        alpha[i] = (3/h[i])*(a[i+1]-a[i]) - (3/h[i-1])*(a[i]-a[i-1])\n",
    "    \n",
    "    l = np.zeros(n)\n",
    "    u = np.zeros(n)\n",
    "    z = np.zeros(n)\n",
    "    c = np.zeros(n)\n",
    "    b = np.zeros(n)\n",
    "    d = np.zeros(n)\n",
    "    l[0] = 1\n",
    "\n",
    "    for i in range(1, n-1):\n",
    "        l[i] = 2*(x[i+1]-x[i-1]) - h[i-1]*u[i-1]\n",
    "        u[i] = h[i]/l[i]\n",
    "        z[i] = (alpha[i] - h[i-1]*z[i-1])/l[i]\n",
    "    l[n-1] = 1\n",
    "    \n",
    "    \n",
    "    for j in range(n-2, -1, -1):\n",
    "        c[j] = z[j] - u[j]*c[j+1]\n",
    "        b[j] = (a[j+1]-a[j])/h[j] - h[j]*(c[j+1]+2*c[j])/3\n",
    "        d[j] = (c[j+1]-c[j])/(3*h[j])\n",
    "        \n",
    "    print(c, d, b)\n",
    "    return np.array([a, b, c, d])"
   ]
  },
  {
   "cell_type": "markdown",
   "metadata": {},
   "source": [
    "\n",
    "\n",
    "### Section 3.4\n",
    "\n",
    "1. Use Theorem 3.9 or Algorithm 3.3 to construct an approximating polynomial for the following data.\n",
    "\n",
    "$(a)$\n",
    "\n",
    "\n",
    "| $x$ | $f(x)$ | $f’(x)$ |\n",
    "|---|------|-------|\n",
    "| $0$ | $1.00000$ | $2.00000$ |\n",
    "| $0.5$ | $2.71828$ | $5.43656$ |"
   ]
  },
  {
   "cell_type": "code",
   "execution_count": 13,
   "metadata": {},
   "outputs": [
    {
     "data": {
      "text/plain": [
       "array([[0.  , 1.  , 0.  , 0.  , 0.  ],\n",
       "       [0.  , 1.  , 2.  , 0.  , 0.  ],\n",
       "       [0.5 , 2.72, 3.44, 2.87, 0.  ],\n",
       "       [0.5 , 2.72, 5.44, 4.  , 2.25]])"
      ]
     },
     "execution_count": 13,
     "metadata": {},
     "output_type": "execute_result"
    }
   ],
   "source": [
    "x = np.array([0,0.5])\n",
    "y = np.array([1,2.71828])\n",
    "dy = np.array([2,5.43656])\n",
    "HermiteInterpolation(x,y,dy)"
   ]
  },
  {
   "cell_type": "markdown",
   "metadata": {},
   "source": [
    "$H_3(x) = 1 + 2(x-0) + 2.8731(x-0)^2 + 2.2538(x-0)^2(x-.5)$"
   ]
  },
  {
   "cell_type": "markdown",
   "metadata": {},
   "source": [
    "$(b)$\n",
    "\n",
    "| $x$ | $f(x)$ | $f’(x)$ |\n",
    "|---|------|-------|\n",
    "| $0.1$ | $-0.29004996$ | $ -2.8019975$ |\n",
    "| $0.2$ | $-0.56079734$ | $-2.6159201$ |\n",
    "| $0.3$ | $-0.81401972$ | $-2.9734038$ |"
   ]
  },
  {
   "cell_type": "code",
   "execution_count": 14,
   "metadata": {},
   "outputs": [
    {
     "data": {
      "text/plain": [
       "array([[    0.1 ,    -0.29,     0.  ,     0.  ,     0.  ,     0.  ,     0.  ],\n",
       "       [    0.1 ,    -0.29,    -2.8 ,     0.  ,     0.  ,     0.  ,     0.  ],\n",
       "       [    0.2 ,    -0.56,    -2.71,     0.95,     0.  ,     0.  ,     0.  ],\n",
       "       [    0.2 ,    -0.56,    -2.62,     0.92,    -0.3 ,     0.  ,     0.  ],\n",
       "       [    0.3 ,    -0.81,    -2.53,     0.84,    -0.39,    -0.48,     0.  ],\n",
       "       [    0.3 ,    -0.81,    -2.97,    -4.41,   -52.49,  -260.47, -1299.97]])"
      ]
     },
     "execution_count": 14,
     "metadata": {},
     "output_type": "execute_result"
    }
   ],
   "source": [
    "x = np.array([0.1, 0.2, 0.3])\n",
    "y = np.array([-0.29004996, -0.56079734, -0.81401972])\n",
    "dy = np.array([-2.8019975,-2.6159201,-2.9734038])\n",
    "HermiteInterpolation(x,y,dy)"
   ]
  },
  {
   "cell_type": "markdown",
   "metadata": {},
   "source": [
    "$H_5(x) = -.29 - 2.802(x-.1) + 0.9452(x-.1)^2 - 0.297(x-.1)^2(x-.2) - 0.4794(x-.1)^2(x-.2)^2 - 1299.9722(x-.1)^2(x-.2)^2(x-.3)$"
   ]
  },
  {
   "cell_type": "markdown",
   "metadata": {},
   "source": [
    "\n",
    "\n",
    "2.The data in previous exercise (above) were generated using the following functions. Use the polynomials constructed in previous problem for the given value of $x$ to approximate $f(x)$, and calculate the absolute error. (a)$f(x) =e^{2x}$; approximate $f(0.43)$. (b)$f(x) =x^2 cosx− 3 x$; approximate $f(0.18).$"
   ]
  },
  {
   "cell_type": "markdown",
   "metadata": {},
   "source": [
    "$\\\\$"
   ]
  },
  {
   "cell_type": "markdown",
   "metadata": {},
   "source": [
    "$a)$ $f(x) = e^{2x}$; $f(0.43) = 2.3631606937057947$\n",
    "\n",
    "The absolute error for $H_3$ is:\n",
    "\n",
    "$|f(0.43) - H_3(0.43)| = 0.0010954371057949608$"
   ]
  },
  {
   "cell_type": "code",
   "execution_count": 15,
   "metadata": {},
   "outputs": [
    {
     "data": {
      "text/plain": [
       "0.0010954371057949608"
      ]
     },
     "execution_count": 15,
     "metadata": {},
     "output_type": "execute_result"
    }
   ],
   "source": [
    "def f1(x_0):\n",
    "    return np.exp(2*x_0)\n",
    "def f2(x_0):\n",
    "    return 1 + 2*(x_0-0) + 2.8731*(x_0-0)**2 + 2.2538*(x_0-0)**2*(x_0-0.5)\n",
    "absoluteError(f1, f2, .43)"
   ]
  },
  {
   "cell_type": "markdown",
   "metadata": {},
   "source": [
    "$\\\\$"
   ]
  },
  {
   "cell_type": "markdown",
   "metadata": {},
   "source": [
    "$b)$ $f(x) = x^2cosx -3x$; $f(0.18) = -0.508123464354$\n",
    "\n",
    "The absolute error for $H_5$ is:\n",
    "\n",
    "$|f(1.8) - H_5(1.8)| = 0.0004488845495050908$"
   ]
  },
  {
   "cell_type": "code",
   "execution_count": 16,
   "metadata": {},
   "outputs": [
    {
     "data": {
      "text/plain": [
       "0.0004488845495050908"
      ]
     },
     "execution_count": 16,
     "metadata": {},
     "output_type": "execute_result"
    }
   ],
   "source": [
    "def f1(x):\n",
    "    return x**2 * np.cos(x)-3*x\n",
    "def f2(x):\n",
    "    y =  -.29 + -2.802*(x-.1)\n",
    "    y = y + (0.9452)*(x-.1)**2 \n",
    "    y = y + (-0.297)*(x-.1)**2*(x-.2)\n",
    "    y = y + (-0.4794)*(x-.1)**2*(x-.2)**2\n",
    "    y = y - 1299.9722*(x-.1)**2*(x-.2)**2*(x-.3)\n",
    "    return y\n",
    "absoluteError(f1, f2, .18)\n",
    "\n"
   ]
  },
  {
   "cell_type": "markdown",
   "metadata": {},
   "source": [
    "$\\\\$"
   ]
  },
  {
   "cell_type": "markdown",
   "metadata": {},
   "source": [
    "## Section 3.5\n",
    "\n",
    "1.Determine the clamped cubic splines that interpolates the data\n",
    "$f(0) = 0$, $f(1) = 1$, $f(2) = 2$ and satisfies $s′(0) =s′(2) = 1$.\n",
    "\n",
    "Because $f$ is defined at $a = 0 < 1 < 2 = b$ and is differentiable at $a$ and $b$, then $f$ has a unique clamped spline interpolated at $0,1,2$ that satisfies $s′(0) = f′(0)$  and $s'(2) = f'(2)$."
   ]
  },
  {
   "cell_type": "markdown",
   "metadata": {},
   "source": [
    "points:\n",
    "- $(0,0), (1,1), (2,2)$\n",
    "- $s'(0) = s'(2) = 1$\n",
    "\n",
    "$S_i = a_i + b_i(x-x_i) + c_i(x-x_i)^2 + d_i(x-x_i)^3, x_i \\le x \\le x_{i+1}$\n",
    "\n",
    "Spline $[0,1]$: \n",
    "$S_0 = a_0 + b_0(x-0) + c_0(x-0)^2 + d_0(x-0)^3$\n",
    "\n",
    "Spline $[1,2]$\n",
    "$S_1 = a_1 + b_1(x-1) + c_1(x-1)^2 + d_1(x-1)^3$\n",
    "\n",
    "-----\n",
    "\n",
    "$h_n = x_{n+1} - x_n$\n",
    "\n",
    "$h_0 = 1 - 0 = 1$\n",
    "\n",
    "$h_1 = 2 - 1 = 1$\n",
    "\n",
    "-----\n",
    "\n",
    "$A = \\begin{bmatrix} 2h_0 & h_0 & 0 \\\\ h_0 & 2(h_0+h_1) & h_1 \\\\ 0 & h_1 & 2h_{n-1} \\end{bmatrix}$\n",
    "\n",
    "$\\implies A = \\begin{bmatrix} 2 & 1 & 0 \\\\ 1 & 4 & 1 \\\\ 0 & 1 & 2 \\end{bmatrix}$\n",
    "\n",
    " $u = \\begin{bmatrix} \\frac{3}{h_0}(a_1-a_0) - 3f'(a)\\\\ \\frac{3}{h_1}(a_2-a_1) - 3f'(a) \\\\ 3f'(b)-\\frac{3}{h_1}(a_2-a_1) \\end{bmatrix}$\n",
    "\n",
    "$\\implies \\begin{bmatrix} 2 & 1 & 0 \\\\ 1 & 4 & 1 \\\\ 0 & 1 & 2 \\end{bmatrix} * \\begin{bmatrix} c_0\\\\ c_1 \\\\ c_2\\end{bmatrix} = \\begin{bmatrix} \\frac{3}{1}(1) - 3\\\\ \\frac{3}{1}(1) - 3 \\\\ 3-\\frac{3}{1}(1) \\end{bmatrix}$\n",
    "\n",
    "\n",
    "$\\implies \\begin{bmatrix} 2 & 1 & 0 \\\\ 1 & 4 & 1 \\\\ 0 & 1 & 2 \\end{bmatrix} \\begin{bmatrix} 0\\\\ 0 \\\\ 0 \\end{bmatrix}$\n",
    "\n",
    "$\\implies \\begin{bmatrix} 1 & 0 & 0 \\\\ 0 & 1 & 0 \\\\ 0 & 0 & 1 \\end{bmatrix} \\begin{bmatrix} 0\\\\ 0 \\\\ 0 \\end{bmatrix}$\n",
    "\n",
    "$\\implies c_0 = c_1 = c_2=0$\n",
    "\n",
    "-----\n",
    "\n",
    "$b_j = \\frac{1}{h_j}(a_{j+1} - a_j) - \\frac{h_j}{3}(2c_j + c_{j+1})$\n",
    "\n",
    "$\\implies b_0 = \\frac{1}{1}(1-0) - \\frac{1}{3}(2*0 + 0),$\n",
    "\n",
    "$\\implies b_1 = \\frac{1}{1}(2-1) - \\frac{1}{3}(2*0 + 0)$\n",
    "\n",
    "$\\implies b_0 = b_1 = 1, b_2 = 0$\n",
    "\n",
    "-----\n",
    "\n",
    "$d_j = \\frac{c_{j+1} - c_j}{3h_j}$\n",
    "\n",
    "$\\implies d_0 = \\frac{0 - 0}{3*1} = 0$\n",
    "\n",
    "$\\implies d_1 = \\frac{0 - 0}{3*1} = 0$\n",
    "\n",
    "$\\implies d_0 = d_1 = d_2 = 0$\n",
    "\n",
    "-----\n",
    "\n",
    "$a_0 = 0; a_1 = 1; a_2 = 2$\n",
    "\n",
    "$b_0 = 1; b_1 = 1; b_2 = 0$\n",
    "\n",
    "$c_0 = 0; c_1 = 0; c_2 = 0$\n",
    "\n",
    "$d_0 = 0; d_1 = 0; d_2 = 0$\n",
    "\n",
    "-----\n",
    "\n",
    "$ S(x) = $\n",
    "\n",
    "\n",
    "$ S_0 = 0 + 1(x-0) + 0(x-0)^2 + 0(x-0)^3; 0 \\le x < 1 $\n",
    "\n",
    "$ S_1 = 1 + 1(x-1) + 0(x-1)^2 + 0(x-1)^3; 1 \\le x < 2 $\n",
    "\n",
    "$ S(x) = $\n",
    "\n",
    "$ S_0 = x; 0 \\le x < 1 $\n",
    "\n",
    "$ S_1 = x; 1 \\le x < 2 $\n"
   ]
  },
  {
   "cell_type": "markdown",
   "metadata": {},
   "source": [
    "2. Construct the natural cubic spline for the following data.\n",
    "\n",
    "$(a)$\n",
    "\n",
    "|$x$| $f(x)$|\n",
    "|---|------|\n",
    "|$0$| $1.00000$|\n",
    "|$0.5$| $2.71828$|"
   ]
  },
  {
   "cell_type": "code",
   "execution_count": 84,
   "metadata": {},
   "outputs": [
    {
     "data": {
      "text/plain": [
       "array([[1.    , 2.7183],\n",
       "       [3.4366, 0.    ],\n",
       "       [0.    , 0.    ],\n",
       "       [0.    , 0.    ]])"
      ]
     },
     "execution_count": 84,
     "metadata": {},
     "output_type": "execute_result"
    }
   ],
   "source": [
    "x = np.array([0.0, 0.5])\n",
    "y = np.array([1.0, 2.71828])\n",
    "CubicSpline(x,y)"
   ]
  },
  {
   "cell_type": "markdown",
   "metadata": {},
   "source": [
    "$ S(x) = $\n",
    "$ 1 + 3.4366(x) + 0(x)^2 + 0(x)^3;$ $0 \\le x < 0.5 $\n",
    "\n",
    "$ 2.7183 + 0(x) + 0(x)^2 + 0(x)^3;$ $x \\ge .5 $"
   ]
  },
  {
   "cell_type": "markdown",
   "metadata": {},
   "source": [
    "$(b)$\n",
    "\n",
    "| $x$ | $f(x)$ | $f’(x)$|\n",
    "|---|------|-------|\n",
    "| $0.1$ | $-0.29004996$ | $-2.7513$ |\n",
    "| $0.2$ | $-0.56079734$ | $-2.6198$ |\n",
    "| $0.3$ | $-0.81401972$ | $-2.4884$ |\n"
   ]
  },
  {
   "cell_type": "code",
   "execution_count": 85,
   "metadata": {},
   "outputs": [
    {
     "data": {
      "text/plain": [
       "array([[-0.29  , -0.5608, -0.814 ],\n",
       "       [-2.7513, -2.6198,  0.    ],\n",
       "       [ 0.    ,  1.3144,  0.    ],\n",
       "       [ 4.3812, -4.3812,  0.    ]])"
      ]
     },
     "execution_count": 85,
     "metadata": {},
     "output_type": "execute_result"
    }
   ],
   "source": [
    "x = np.array([0.1, 0.2, 0.3])\n",
    "y = np.array([-0.29004996, -0.56079734, -0.81401972])\n",
    "CubicSpline(x,y)"
   ]
  },
  {
   "cell_type": "markdown",
   "metadata": {},
   "source": [
    "$ S(x) = $\n",
    "\n",
    "$ -0.29 - 2.7513(x - .1) + 4.3812(x-.1)^3; $ $ 0.1 \\le x < 0.2 $\n",
    "\n",
    "$ -0.5608 - 2.6198(x-.2) + 1.3144(x - .2)^2 - 4.3812(x-.2)^3 $  $ 0.2 \\le x < 0.3 $\n",
    "\n",
    "\n"
   ]
  },
  {
   "cell_type": "markdown",
   "metadata": {},
   "source": [
    "$\\\\$"
   ]
  }
 ],
 "metadata": {
  "kernelspec": {
   "display_name": "Python 3.10.6 ('dataPy')",
   "language": "python",
   "name": "python3"
  },
  "language_info": {
   "codemirror_mode": {
    "name": "ipython",
    "version": 3
   },
   "file_extension": ".py",
   "mimetype": "text/x-python",
   "name": "python",
   "nbconvert_exporter": "python",
   "pygments_lexer": "ipython3",
   "version": "3.10.6"
  },
  "orig_nbformat": 4,
  "vscode": {
   "interpreter": {
    "hash": "8a2c1878e4d84f64cd2870bb3bdfdca84a9c1b9fce17f2d18b072f326e75f6cf"
   }
  }
 },
 "nbformat": 4,
 "nbformat_minor": 2
}
