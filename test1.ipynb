{
 "cells": [
  {
   "cell_type": "code",
   "execution_count": 3,
   "metadata": {},
   "outputs": [],
   "source": [
    "import numpy as np\n",
    "import scipy as sp\n",
    "import matplotlib.pyplot as plt"
   ]
  },
  {
   "cell_type": "code",
   "execution_count": 31,
   "metadata": {},
   "outputs": [],
   "source": [
    "def newtonsMethod(x0, f, df, tol=1e-6, maxIter=100):\n",
    "    x = x0\n",
    "    for i in range(maxIter):\n",
    "        print(x)\n",
    "        x = x - f(x)/df(x)\n",
    "        if abs(f(x)) < tol:\n",
    "            break\n",
    "    print(x)\n",
    "    return x\n",
    "\n",
    "def secantMethod(x0, x1, f, tol=1e-6, maxIter=100):\n",
    "    x = x0\n",
    "    for i in range(maxIter):\n",
    "        print(x, x0)\n",
    "        x = x - f(x)*(x-x1)/(f(x)-f(x1))\n",
    "        if abs(f(x)) < tol:\n",
    "            break\n",
    "    print(x)\n",
    "    return x\n",
    "\n",
    "def falsePositionMethod(x0, x1, f, tol=1e-6, maxIter=100):\n",
    "    x = x0\n",
    "    for i in range(maxIter):\n",
    "        x = x - f(x)*(x-x1)/(f(x)-f(x1))\n",
    "        if abs(f(x)) < tol:\n",
    "            break\n",
    "    return x\n",
    "\n",
    "def graph(fun, xlim, ylim, axv = None):\n",
    "    fig = plt.figure()\n",
    "    x = np.linspace(*xlim, 100)\n",
    "    y = fun(x)\n",
    "    ax = fig.add_subplot(1,1,1)\n",
    "    ax.spines['left'].set_position('center')\n",
    "    ax.spines['bottom'].set_position('zero')\n",
    "    ax.spines['right'].set_color('none')\n",
    "    ax.spines['top'].set_color('none')\n",
    "    ax.xaxis.set_ticks_position('bottom')\n",
    "    ax.yaxis.set_ticks_position('left')\n",
    "\n",
    "    plt.plot(x, y)\n",
    "    plt.xlim(*xlim)\n",
    "    plt.ylim(*ylim)\n",
    "    if axv != None:\n",
    "        plt.axvline(x=axv, color='r')\n",
    "    plt.grid()\n",
    "    plt.show()\n",
    "    return\n",
    "def fixedPointIteration(f, x0, tol=1e-6, maxIter=100):\n",
    "    \"\"\"\n",
    "    Fixed point iteration method for solving f(x) = x\n",
    "    \"\"\"\n",
    "    \n",
    "    for i in range(maxIter):\n",
    "        x1 = f(x0)\n",
    "        if abs(x1 - x0) < tol:\n",
    "            return x1, i+1\n",
    "        x0 = x1\n",
    "        \n",
    "    raise ValueError(\"Method failed after %d iterations.\" % maxIter)"
   ]
  },
  {
   "cell_type": "markdown",
   "metadata": {},
   "source": [
    "### 1) Find the rates of convergence of the following sequences as $n \\to \\infty$ for:\n",
    "#### $\\lim\\limits_{n \\to \\infty} \\frac{2n+7}{n^7} = 0$"
   ]
  },
  {
   "cell_type": "markdown",
   "metadata": {},
   "source": [
    "##### Using the definition for the rate of convergence:\n",
    "#####  $|\\alpha_n - \\alpha| \\leq K|\\beta_n|$ for large $n$\n",
    "##### $\\alpha_n := \\frac{2n+7}{n^7}$,\n",
    "##### $\\alpha := 0$,\n",
    "##### $\\beta_n := \\frac{1}{n^6}$, \n",
    "##### $K := 9$.\n",
    "##### $\\implies |\\alpha_n - 0| = \\frac{2n+7}{n^7} \\leq \\frac{2n+7n}{n^7} = 9\\frac{1}{n^6}$ = $9\\beta_n$ for large $n$.\n",
    "##### $\\implies |\\alpha_n| = 0 + O(n^{-6})$ for large $n$.\n",
    "<hr>"
   ]
  },
  {
   "cell_type": "markdown",
   "metadata": {},
   "source": [
    "### 2) Determine the order of convergence and the asymptotic error constant of the given sequences:\n",
    "#### $p_n = \\frac{1}{5^{2^n}}$;  $n \\geq 1 $\n",
    "\n"
   ]
  },
  {
   "cell_type": "markdown",
   "metadata": {},
   "source": [
    "##### Using the definition for the order of convergence:\n",
    "#####  $\\lim\\limits_{n \\to \\infty} \\frac{p_{n+1} - p}{p_n-p} = \\lambda$ where $p_n$ is a sequence that converges to $p$ with $p_n \\neq p$\n",
    "\n",
    "##### Because the $\\lim\\limits_{n \\to \\infty} \\frac{1}{5^{2^n}} = \\frac{1}{\\infty} = 0$.\n",
    "##### $\\implies p = 0$\n",
    "\n",
    "##### $\\implies \\lim\\limits_{n \\to \\infty} \\frac{5^{-2^{n+1}} - 0}{|5^{-2^n} - 0|^{\\alpha}} = \\lambda$\n",
    "\n",
    "##### $\\implies \\lim\\limits_{n \\to \\infty} \\frac{5^{-2^{n+1}}}{|5^{-2^n}|^{\\alpha}} = \\lambda$"
   ]
  },
  {
   "cell_type": "markdown",
   "metadata": {},
   "source": [
    "<hr>"
   ]
  },
  {
   "cell_type": "markdown",
   "metadata": {},
   "source": [
    "### 3) Use theorem 2.3 to show that $g(x) = 1-\\frac{x^2}{4}$ has a unique fixed point on $[0,1]$"
   ]
  },
  {
   "cell_type": "markdown",
   "metadata": {},
   "source": [
    "##### if g(x) has a unique fixed point on the interval [0,1] then it will satisfy the following conditions:\n",
    "##### 1) $g \\in C[0,1]$ and $g(x) \\in [0,1]$\n",
    "##### 2) if $g'(x)$ exists on $(0,1)$ and a positive constant $k \\le 1$ exists with $|g'(x)| \\le k$ for all $x \\in (0,1)$\n",
    "\n",
    "##### because g(x) is defined on the interval and its limit is equal to the value on the point it is continuous on the interval [0,1]. \n",
    "##### the local max and min will be the values at f'(x) = 0\n",
    "##### f'(x) = -x/2\n",
    "##### So the points at which to check the value of f'(x) are 0 and 1\n",
    "##### f(0) = 1, f(1) = .75 because it is continuous on the interval [0,1] and the values at the endpoints are in the interval [0,1] then g(x) will have at least one fixed point on the interval [0,1]\n",
    "\n",
    "##### $g'(x) = -x/2$ if K = 1/2 then $|g'(x)| \\le k$ for all $x \\in (0,1)$\n",
    "\n",
    "##### Because the function satisfies the conditions for a unique fixed point on the interval [0,1] then it has a unique fixed point on the interval [0,1]"
   ]
  },
  {
   "cell_type": "markdown",
   "metadata": {},
   "source": [
    "<hr>"
   ]
  },
  {
   "cell_type": "markdown",
   "metadata": {},
   "source": [
    "### 4) Without computing the sequence $p_0, p_1, ...$ show that the iteration converges for every $p_0$ in $[0,\\frac{\\pi}{2}]$\n",
    "\n",
    "#### $p_{n+1} = \\frac{1}{3}cos(p_n)$"
   ]
  },
  {
   "cell_type": "markdown",
   "metadata": {},
   "source": [
    "##### Using the Fixed Point Theorem $p_{n+1} = \\frac{1}{3}cos(p_n)$ will converge using on $[0,\\frac{\\pi}{2}]$ if for a constant $k$, $0 \\le k \\le 1$, if:\n",
    "##### $g \\in C[a,b]$ such that $g(x) \\in [a,b]$, for all $x$ in $[a,b]$\n",
    "##### $|g'(x)| \\leq k$ for all $x$ in $[a,b]$\n",
    "\n",
    "##### Because $cos$ is a periodic function that is continuous on its domain with a range of [0,1] and is positive and the range is [0,1] on the interval $[0,1] \\frac{\\pi}{2}]$, we can use the fixed point theorem to show that the iteration converges for every $p_0$ in $[0,\\frac{\\pi}{2}]$\n",
    "\n",
    "##### $for $k = 1/3$, $g'(x) = -\\frac{1}{3}sin(x)$ and $|g'(x)| \\leq k$ for all $x$ in $[0,\\frac{1}{3}]$\n",
    "#### Because it satisfies all conditions of the fixed point theorem, the iteration converges for every $p_0$ in $[0,\\frac{\\pi}{2}]$\n",
    "<hr>"
   ]
  },
  {
   "cell_type": "markdown",
   "metadata": {},
   "source": [
    "### 5) Use Theorem 2.1 to find a bound for the number of iterations needed to achieve an approximation with accuracy $10^{-4}$ to the solution of $x^3-x-1 = 0$ lying in the interval $[1,2]$"
   ]
  },
  {
   "cell_type": "markdown",
   "metadata": {},
   "source": [
    "##### to find the number of iterations needed to achieve an approximation with accuracy $10^{-4}$ to the solution of $x^3-x-1 = 0$ lying in the interval $[1,2]$, we can use the theorem 2.1 which is $|p_n-p| \\leq \\frac{b-a}{2^n}$, when $n \\geq 1$\n",
    "##### $\\implies$ $|p_n-p| \\leq \\frac{2-1}{2^n}$\n",
    "##### $\\implies$ $10^{-4} \\geq 2^{-n}$\n",
    "##### $\\implies$ $log_{10} 10^{-4} \\geq log_{10} 2^{-n}$\n",
    "##### $\\implies$ $-4 \\geq -n log_{10} 2$\n",
    "##### $\\implies$ $n \\leq \\frac{4}{log_{10} 2}$\n",
    "##### $\\implies$ $n \\leq 13.28$\n",
    "<hr>"
   ]
  },
  {
   "cell_type": "markdown",
   "metadata": {},
   "source": [
    "### 6) Let $ f(x) = 2x^2 + 2cos(2x) − 4x cos(x) + 1$\n",
    "### (a) Use Newton’s method to find the solution accurate to within $10^{−5}$ for $0 ≤ x ≤ 1$.\n",
    "### (b) Use modified Newton’s method to find the solution accurate to within $10^{−5}$ for $0 \\leq x \\leq 1$"
   ]
  },
  {
   "cell_type": "code",
   "execution_count": 32,
   "metadata": {},
   "outputs": [
    {
     "name": "stdout",
     "output_type": "stream",
     "text": [
      "0\n",
      "0.75\n",
      "0.788148876201625\n",
      "0.7939237042774201\n",
      "0.7940702554085955\n",
      "0 0\n",
      "1.002170401585583 0\n",
      "0.9959011478845768 0\n",
      "0.9957653963983232\n"
     ]
    },
    {
     "data": {
      "text/plain": [
       "0.9957653963983232"
      ]
     },
     "execution_count": 32,
     "metadata": {},
     "output_type": "execute_result"
    }
   ],
   "source": [
    "####a\n",
    "####newtons method\n",
    "def f(x):\n",
    "    return 2*x**2 + 2*np.cos(2*x) - 4*x*np.cos(x) + 1\n",
    "def df(x):\n",
    "    return 4*x - 4*np.sin(2*x) - 4*np.cos(x) + 4*x*np.sin(x)\n",
    "\n",
    "newtonsMethod(0, f, df, tol=1e-5, maxIter=100)\n",
    "secantMethod(0, 1, f, tol=1e-5, maxIter=100)\n"
   ]
  },
  {
   "cell_type": "markdown",
   "metadata": {},
   "source": [
    "<hr>"
   ]
  },
  {
   "cell_type": "markdown",
   "metadata": {},
   "source": [
    "### 7) Determine the positive real root of $ln(x^2) = 0.7$\n",
    "### (a) graphically,\n",
    "### (b) using three iterations of the bisection method, with initial guesses of $p_0 = 0.5$ and $p_1 = 2$\n",
    "### (c) using three iterations of the false position method, with the same initial guesses as in (b)."
   ]
  },
  {
   "cell_type": "markdown",
   "metadata": {},
   "source": []
  },
  {
   "cell_type": "code",
   "execution_count": 20,
   "metadata": {},
   "outputs": [
    {
     "data": {
      "image/png": "[encoded data removed]",
      "text/plain": [
       "<Figure size 640x480 with 1 Axes>"
      ]
     },
     "metadata": {},
     "output_type": "display_data"
    }
   ],
   "source": [
    "def f(x):\n",
    "    return np.log(x**2) - .7\n",
    "graph(f, (-2, 2), (-2, 2))"
   ]
  },
  {
   "cell_type": "markdown",
   "metadata": {},
   "source": [
    "<hr>"
   ]
  },
  {
   "cell_type": "markdown",
   "metadata": {},
   "source": [
    "### 8) Let $f(x) = e^x−x−2$. The roots of $f(x)$ are the fixed points of the functions \n",
    "#### $g_1(x) = e^x−2$ and $g_2(x) = ln(x + 2)$ \n",
    "### respectively. Which function, $g_1(x)$ or $g_2(x)$, do you use for fixed-point iteration? Explain your reasoning."
   ]
  },
  {
   "cell_type": "markdown",
   "metadata": {},
   "source": [
    "<hr>"
   ]
  },
  {
   "cell_type": "code",
   "execution_count": 21,
   "metadata": {},
   "outputs": [
    {
     "name": "stdout",
     "output_type": "stream",
     "text": [
      "(-1.8414050598547234, 9)\n",
      "(1.146191522547909, 12)\n"
     ]
    }
   ],
   "source": [
    "def f(x): \n",
    "    return np.e**x-2\n",
    "print(fixedPointIteration(f, 0, tol=1e-5, maxIter=100))\n",
    "def f(x):\n",
    "    return np.log(x+2)\n",
    "print(fixedPointIteration(f, 0, tol=1e-5, maxIter=100))"
   ]
  }
 ],
 "metadata": {
  "kernelspec": {
   "display_name": "Python 3.10.6 ('dataPy')",
   "language": "python",
   "name": "python3"
  },
  "language_info": {
   "codemirror_mode": {
    "name": "ipython",
    "version": 3
   },
   "file_extension": ".py",
   "mimetype": "text/x-python",
   "name": "python",
   "nbconvert_exporter": "python",
   "pygments_lexer": "ipython3",
   "version": "3.10.6"
  },
  "orig_nbformat": 4,
  "vscode": {
   "interpreter": {
    "hash": "8a2c1878e4d84f64cd2870bb3bdfdca84a9c1b9fce17f2d18b072f326e75f6cf"
   }
  }
 },
 "nbformat": 4,
 "nbformat_minor": 2
}
