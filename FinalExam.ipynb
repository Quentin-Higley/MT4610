{
 "cells": [
  {
   "attachments": {},
   "cell_type": "markdown",
   "metadata": {},
   "source": [
    "# Math 4610 Numerical Analysis\n",
    "## Quentin Higley\n",
    "## Fall 2022\n",
    "## Final Exam\n",
    "\n",
    "<br>\n",
    "\n",
    "# Table of Contents\n",
    "<hr>\n",
    "\n",
    "## Algorithms used in this notebook:\n",
    "\n",
    "- [Bisection Method](#bisection-method)\n",
    "- [Newtons Method](#newtons-method)\n",
    "- [False Position Method](#false-position-method)\n",
    "- [Composite Simpsons Rule](#composite-simpson-rule)\n",
    "- [Gaussian Elimination](#gaussian-elimination)\n",
    "- [LU Decomposition](#lu-decomposition)\n",
    "- [Cholesky Decomposition](#cholesky-decomposition)\n",
    "- [Infinite Norm](#infinite-norm)\n",
    "- [Strictly Diagnolly Dominant](#diagnolly-dominant-matrix)\n",
    "- [Spectral Radius](#spectral-radius)\n",
    "- [Jacobi Iteration](#jacobi-iteration)\n",
    "- [Gauss Seidel Iteration](#gauss-seidel-iteration)\n",
    "\n",
    "## Questions:\n",
    "- [Question 1](#question-1)\n",
    "- [Question 2](#question-2)\n",
    "- [Question 3](#question-3)\n",
    "- [Question 4](#question-4)\n",
    "- [Question 5](#question-5)\n",
    "- [Question 6](#question-6)\n",
    "- [Question 7](#question-7)"
   ]
  },
  {
   "attachments": {},
   "cell_type": "markdown",
   "metadata": {},
   "source": [
    "# Algorithms\n",
    "\n",
    "<hr>"
   ]
  },
  {
   "cell_type": "code",
   "execution_count": 67,
   "metadata": {},
   "outputs": [],
   "source": [
    "import numpy as np\n",
    "import matplotlib.pyplot as plt"
   ]
  },
  {
   "attachments": {},
   "cell_type": "markdown",
   "metadata": {},
   "source": [
    "## Bisection Method"
   ]
  },
  {
   "cell_type": "code",
   "execution_count": 68,
   "metadata": {},
   "outputs": [],
   "source": [
    "#Bisection Method\n",
    "def bisectionMethod(f, a, b, tol=1e-3, maxIter=100) -> float:\n",
    "    \"\"\"\n",
    "    Bisection method for finding a root of a function f in the interval [a,b].\n",
    "\n",
    "    Args:\n",
    "        f (function): function\n",
    "        a (float): left endpoint of interval\n",
    "        b (float): right endpoint of interval\n",
    "        tol (float, optional): tolerance for stopping criterion. Defaults to 1e-3.\n",
    "        maxIter (int, optional): maximum number of iterations. Defaults to 100.\n",
    "\n",
    "    Returns:\n",
    "        float: root of f(x) = 0\n",
    "    \"\"\"\n",
    "    if f(a)*f(b) > 0:\n",
    "        raise ValueError(\"f(a) and f(b) must have opposite signs.\")\n",
    "    for i in range(maxIter):\n",
    "        c = (a + b)/2.0\n",
    "        if f(c) == 0 or (b - a)/2 < tol:\n",
    "            return c\n",
    "        if f(a)*f(c) < 0:\n",
    "            b = c\n",
    "        else:\n",
    "            a = c\n",
    "    return c"
   ]
  },
  {
   "attachments": {},
   "cell_type": "markdown",
   "metadata": {},
   "source": [
    "## Newtons Method"
   ]
  },
  {
   "cell_type": "code",
   "execution_count": 69,
   "metadata": {},
   "outputs": [],
   "source": [
    "#Newton's Method\n",
    "def newtonsMethod(x0:float, f:callable, df:callable, tol:float=1e-6, maxIter:int=100) -> float:\n",
    "    \"\"\"\n",
    "    Newton's method for finding a root of a function f.\n",
    "\n",
    "    Args:\n",
    "        x0 (float): initial guess\n",
    "        f (function): function\n",
    "        df (function): derivative of function\n",
    "        tol (float, optional): tolerance for stopping criterion. Defaults to 1e-6.\n",
    "        maxIter (int, optional): maximum number of iterations. Defaults to 100.\n",
    "\n",
    "    Returns:\n",
    "        float: root of f(x) = 0\n",
    "    \"\"\"\n",
    "\n",
    "    xn = x0\n",
    "    for i in range(maxIter):\n",
    "        fxn = f(xn)\n",
    "        if abs(fxn) < tol:\n",
    "            return xn\n",
    "        dfxn = df(xn)\n",
    "        if dfxn == 0:\n",
    "            return None\n",
    "        xn = xn - fxn/dfxn\n",
    "    return xn"
   ]
  },
  {
   "attachments": {},
   "cell_type": "markdown",
   "metadata": {},
   "source": [
    "## False Position Method"
   ]
  },
  {
   "cell_type": "code",
   "execution_count": 70,
   "metadata": {},
   "outputs": [],
   "source": [
    "#False Position Method\n",
    "def falsePosition(f:callable, a:float, b:float, tol:float=1e-6, maxiter:int=100) -> float:\n",
    "    \"\"\"\n",
    "    Calculate the root of a function f in the interval [a,b] using the false position method.\n",
    "\n",
    "    Args:\n",
    "        f (function): function\n",
    "        a (float): lower bound of interval\n",
    "        b (float): upper bound of interval\n",
    "        tol (float, optional): error tolerance. Defaults to 1e-6.\n",
    "        maxiter (int, optional): max iterations. Defaults to 100.\n",
    "\n",
    "    Returns:\n",
    "        float: root of f(x) = 0\n",
    "    \"\"\"\n",
    "    for i in range(maxiter):\n",
    "        fa = f(a)\n",
    "        fb = f(b)\n",
    "        c = a - fa*(b-a)/(fb-fa)\n",
    "        fc = f(c)\n",
    "        if abs(fc) < tol:\n",
    "            return c\n",
    "        if fa*fc < 0:\n",
    "            b = c\n",
    "        else:\n",
    "            a = c\n",
    "    return c"
   ]
  },
  {
   "attachments": {},
   "cell_type": "markdown",
   "metadata": {},
   "source": [
    "## Composite Simpsons Rule"
   ]
  },
  {
   "cell_type": "code",
   "execution_count": 71,
   "metadata": {},
   "outputs": [],
   "source": [
    "#Composite Simpson's Rule\n",
    "def compositeSimpson(f:callable, a:float, b:float, n:int) -> float:\n",
    "    \"\"\"\n",
    "    Composite Simpson's rule for numerical integration.\n",
    "\n",
    "    Args:\n",
    "        f (function): function to integrate\n",
    "        a (float): lower bound of integration\n",
    "        b (float): upper bound of integration\n",
    "        n (int): number of subintervals must be even.\n",
    "\n",
    "    Returns:\n",
    "        float: integral of f from a to b\n",
    "    \"\"\"\n",
    "    h = (b - a) / n\n",
    "    x = np.linspace(a, b, n+1)\n",
    "    y = f(x)\n",
    "    return h / 3 * np.sum(y[0:-1:2] + 4 * y[1::2] + y[2::2])"
   ]
  },
  {
   "attachments": {},
   "cell_type": "markdown",
   "metadata": {},
   "source": [
    "## Gaussian Elimination"
   ]
  },
  {
   "cell_type": "code",
   "execution_count": 72,
   "metadata": {},
   "outputs": [],
   "source": [
    "#Gaussian Elimination\n",
    "def GaussianElimination(A: np.array)-> np.array:\n",
    "    \"\"\"\n",
    "    Guassian elimination for solving linear systems.\n",
    "\n",
    "    Args:\n",
    "        A (np.array): augmented matrix to be solved\n",
    "\n",
    "    Raises:\n",
    "        ValueError: matrix is singular\n",
    "\n",
    "    Returns:\n",
    "        np.array: solution vector\n",
    "    \"\"\"\n",
    "    A = A.astype(float)\n",
    "    m, n = A.shape\n",
    "    n -= 1\n",
    "    x = np.zeros(A.shape[0])\n",
    "\n",
    "    for i in range(n):\n",
    "        p = np.argmin(np.abs(np.ma.masked_where(A[i:, i] == 0, A[i:, i]))) + i\n",
    "        if A[p, i] == 0:\n",
    "            raise ValueError('Matrix is not singular')\n",
    "        if p != i:\n",
    "            A[[i, p]] = A[[p, i]]\n",
    "        for j in range(i+1, n):\n",
    "            A[j] = A[j] - A[i] * (A[j, i] / A[i, i])\n",
    "    if A[n-1, n-1] == 0:\n",
    "        raise ValueError('Matrix is not singular')\n",
    "    x[n-1] = A[n-1, n] / A[n-1, n-1]\n",
    "    for i in range(n-2, -1, -1):\n",
    "        x[i] = (A[i, n] - np.dot(A[i, i+1:n], x[i+1:n])) / A[i, i]\n",
    "    return x"
   ]
  },
  {
   "attachments": {},
   "cell_type": "markdown",
   "metadata": {},
   "source": [
    "## LU Decomposition"
   ]
  },
  {
   "cell_type": "code",
   "execution_count": 73,
   "metadata": {},
   "outputs": [],
   "source": [
    "#LU Decomposition\n",
    "def LUdecomposition(A)-> list[np.array, np.array]:\n",
    "    \"\"\"\n",
    "    Computes the LU decomposition of a square matrix A.\n",
    "\n",
    "    Args:\n",
    "        A (np.array): square matrix\n",
    "\n",
    "    Returns:\n",
    "        list[np.array, np.array]: list of lower and upper triangular matrices\n",
    "    \"\"\"\n",
    "    n = len(A)\n",
    "    L = np.zeros((n, n))\n",
    "    U = np.zeros((n, n))\n",
    "    for i in range(n):\n",
    "        for j in range(i, n):\n",
    "            U[i, j] = A[i, j] - np.dot(L[i, :i], U[:i, j])\n",
    "        for j in range(i, n):\n",
    "            if i == j:\n",
    "                L[i, i] = 1\n",
    "            else:\n",
    "                L[j, i] = (A[j, i] - np.dot(L[j, :i], U[:i, i]))/U[i, i]\n",
    "    return L, U"
   ]
  },
  {
   "attachments": {},
   "cell_type": "markdown",
   "metadata": {},
   "source": [
    "## Cholesky Decomposition"
   ]
  },
  {
   "cell_type": "code",
   "execution_count": 74,
   "metadata": {},
   "outputs": [],
   "source": [
    "#Cholesky Decomposition\n",
    "def CholeskyDecomposition(A:np.array)-> list[np.array, np.array]:\n",
    "    \"\"\"\n",
    "    Compute the Cholesky decomposition of a square matrix.\n",
    "\n",
    "    Args:\n",
    "        A (np.array): array to be decomposed\n",
    "\n",
    "    Returns:\n",
    "        list: list containing L and L^T\n",
    "    \"\"\"\n",
    "    n, m = A.shape\n",
    "    if n != m:\n",
    "        return\n",
    "    l = np.zeros((n, n))\n",
    "    l[0, 0] = np.sqrt(A[0, 0])\n",
    "\n",
    "    for i in range(1, n):\n",
    "        l[i, 0] = A[i, 0]/l[0, 0]\n",
    "\n",
    "    for i in range(1, n-1):\n",
    "        l[i, i] = np.sqrt(A[i, i] - np.dot(l[i, :i], l[i, :i]))\n",
    "        for j in range(i+1, n):\n",
    "            l[j, i] = (A[j, i] - np.dot(l[j, :i], l[i, :i]))/l[i, i]\n",
    "    l[n-1, n-1] = np.sqrt(A[n-1, n-1] - np.dot(l[n-1, :n-1], l[n-1, :n-1]))\n",
    "    return l, np.transpose(l)"
   ]
  },
  {
   "attachments": {},
   "cell_type": "markdown",
   "metadata": {},
   "source": [
    "## Infinite Norm"
   ]
  },
  {
   "cell_type": "code",
   "execution_count": 75,
   "metadata": {},
   "outputs": [],
   "source": [
    "#Infinite Norm\n",
    "def infNorm(A:np.array)->float:\n",
    "    \"\"\"\n",
    "    Calculates the infinite norm of a matrix\n",
    "\n",
    "    Args:\n",
    "        A (np.array): matrix to be checked\n",
    "\n",
    "    Returns:\n",
    "        float: infinite norm of matrix\n",
    "    \"\"\"\n",
    "    column_sums = [sum(abs(A[:, i])) for i in range(A.shape[1])]\n",
    "    return max(column_sums)"
   ]
  },
  {
   "attachments": {},
   "cell_type": "markdown",
   "metadata": {},
   "source": [
    "## Strictly Diagnolly Dominant Matrix"
   ]
  },
  {
   "cell_type": "code",
   "execution_count": 76,
   "metadata": {},
   "outputs": [],
   "source": [
    "#Strictly Diagonally Dominant\n",
    "def isDiagonallyDominant(A)->bool:\n",
    "    \"\"\"\n",
    "    checks if array is strictly diagonally dominant\n",
    "\n",
    "    Args:\n",
    "        A (np.array): array to be checked\n",
    "\n",
    "    Returns:\n",
    "        bool: True if array is strictly diagonally dominant, False otherwise\n",
    "    \"\"\"\n",
    "    for i in range(A.shape[0]):\n",
    "        if abs(A[i, i]) < np.sum(abs(A[i, :])) - abs(A[i, i]):\n",
    "            return False\n",
    "    return True"
   ]
  },
  {
   "attachments": {},
   "cell_type": "markdown",
   "metadata": {},
   "source": [
    "## Spectral Radius"
   ]
  },
  {
   "cell_type": "code",
   "execution_count": 77,
   "metadata": {},
   "outputs": [],
   "source": [
    "#Spectral Radius\n",
    "def spectralRadius(A: np.array)-> float:\n",
    "    \"\"\"\n",
    "    computes the spectral radius of a matrix\n",
    "\n",
    "    Args:\n",
    "        A (np.array): matrix to be checked\n",
    "\n",
    "    Raises:\n",
    "        ValueError: matrix must be square\n",
    "\n",
    "    Returns:\n",
    "        float: spectral radius of matrix\n",
    "    \"\"\"\n",
    "    if A.shape[0] != A.shape[1]:\n",
    "        raise ValueError(\"Matrix must be square\")\n",
    "    return np.max(np.abs(np.linalg.eigvals(A)))"
   ]
  },
  {
   "attachments": {},
   "cell_type": "markdown",
   "metadata": {},
   "source": [
    "## Jacobi Iteration"
   ]
  },
  {
   "cell_type": "code",
   "execution_count": 78,
   "metadata": {},
   "outputs": [],
   "source": [
    "#Jacobi Iteration\n",
    "def JacobiIteration(A: np.array, b: np.array, tol: float = 1e-10, maxIter: int = 1000)-> np.array:\n",
    "    \"\"\"\n",
    "    computes the solution to a linear system using the Jacobi iteration method\n",
    "\n",
    "    Args:\n",
    "        A (np.array): A matrix\n",
    "        b (np.array): b vector\n",
    "        tol (float, optional): tolerance. Defaults to 1e-10.\n",
    "        maxIter (int, optional): max number of iterations. Defaults to 1000.\n",
    "\n",
    "    Returns:\n",
    "        np.array: solution vector\n",
    "    \"\"\"\n",
    "    A = np.array(A, dtype=np.float64)\n",
    "    x = np.ones_like(b, dtype=np.float64)  # initial guess\n",
    "    #x = np.zeros_like(b, dtype=np.float64)  # initial guess\n",
    "    T = A - np.diag(np.diag(A))  # T = A - D\n",
    "    for k in range(maxIter):\n",
    "        x_old = x.copy()\n",
    "        x[:] = (b - np.dot(T, x)) / np.diag(A)\n",
    "        if np.linalg.norm(x - x_old, np.inf) < tol:\n",
    "            return x\n",
    "    return x"
   ]
  },
  {
   "attachments": {},
   "cell_type": "markdown",
   "metadata": {},
   "source": [
    "## Gauss Seidel Iteration"
   ]
  },
  {
   "cell_type": "code",
   "execution_count": 79,
   "metadata": {},
   "outputs": [],
   "source": [
    "#Gauss-Seidel Iteration\n",
    "def GaussSeidelIteration(A: np.array, b: np.array, tol: float = 1e-10, maxIter: int = 1000)-> np.array:\n",
    "    \"\"\"\n",
    "    Computes the solution to a linear system using the Gauss-Seidel iteration method\n",
    "\n",
    "    Args:\n",
    "        A (np.array): A matrix\n",
    "        b (np.array): b vector\n",
    "        tol (float, optional): tolerance. Defaults to 1e-10.\n",
    "        maxIter (int, optional): max number of iterations. Defaults to 1000.\n",
    "\n",
    "    Returns:\n",
    "        np.array: solution vector\n",
    "    \"\"\"\n",
    "    A = np.array(A, dtype=np.float64)\n",
    "    x = np.ones_like(b, dtype=np.float64)  # initial guess\n",
    "    #x = np.zeros_like(b, dtype=np.float64)  # initial guess\n",
    "    i = 0\n",
    "    for k in range(maxIter):\n",
    "        i += 1\n",
    "        x_old = x.copy()\n",
    "        for i in range(A.shape[0]):\n",
    "            x[i] = (b[i] - np.dot(A[i, :i], x[:i]) -\n",
    "                    np.dot(A[i, i+1:], x_old[i+1:])) / A[i, i]\n",
    "        if np.linalg.norm(x - x_old, np.inf) < tol:\n",
    "            return x\n",
    "    return x"
   ]
  },
  {
   "attachments": {},
   "cell_type": "markdown",
   "metadata": {},
   "source": [
    "# Questions\n",
    "\n",
    "<hr>"
   ]
  },
  {
   "attachments": {},
   "cell_type": "markdown",
   "metadata": {},
   "source": [
    "##  Question 1"
   ]
  },
  {
   "attachments": {},
   "cell_type": "markdown",
   "metadata": {},
   "source": [
    "1. The equation $f(x) = 2−x^2 sinx = 0$ has a solution in the interval $[− 1 ,2]$.\n",
    "\n",
    "    a. Verify that the Bisection method can be applied to the function $f(x)$ on $[− 1 ,2]$.\n",
    "\n",
    "    b.Using the error formula for the Bisection method find the number of iterations needed for accuracy $0.000001$. Do not do the Bisection calculations.\n",
    "\n",
    "    c. Compute $p_3$ for the Bisection method."
   ]
  },
  {
   "attachments": {},
   "cell_type": "markdown",
   "metadata": {},
   "source": [
    "a. To be able to use the Bisection method $f(x)[a,b] \\in C[a,b]$ and $f(a)f(b) < 0$.\n",
    "\n",
    "Since $f$ is continuous on its domain $[− 1 ,2]$ we only need to check that $f(a)f(b) < 0$.\n",
    "\n",
    "$$ f(-1) = 2.84147098481 $$\n",
    "$$ f(2) = −1.6371897073 $$\n",
    "\n",
    "because $f(-1)f(2) < 0$ we can use the Bisection method on $f(x)$ on $[− 1 ,2]$.\n",
    "\n",
    "<br>\n",
    "<br>\n",
    "\n",
    "b. To find the number of iterations needed for accuracy $0.000001$ we use the formula:\n",
    "\n",
    "$$|p_n - p_{n-1}| < \\frac{b - a}{2^n}$$\n",
    "\n",
    "$$|p_n - p_{n-1}| = 0.000001,\\:b=2,\\:a=-1$$\n",
    "\n",
    "$$\\implies \\frac{3}{2^{n}} \\le 10^{-5}$$\n",
    "\n",
    "$$\\implies 2^{-n} \\le \\frac{1}{300000}$$\n",
    "\n",
    "$$\\implies -n ln(2) \\le ln(\\frac{1}{300000})$$\n",
    "\n",
    "$$\\implies n \\ge \\frac{ln(300000)}{ln(2)}$$\n",
    "\n",
    "$$\\implies n \\ge 18.1946$$\n",
    "\n",
    "Since $n$ must be an integer, there needs to be at least $19$ iterations.\n",
    "\n",
    "<br>\n",
    "<br>\n",
    "\n",
    "c. To find $p_3$ use the bisection method with a max iterations of 3."
   ]
  },
  {
   "cell_type": "code",
   "execution_count": 80,
   "metadata": {},
   "outputs": [
    {
     "name": "stdout",
     "output_type": "stream",
     "text": [
      "The estimation of the root at p_3 is:  1.625\n"
     ]
    },
    {
     "data": {
      "text/plain": [
       "<matplotlib.lines.Line2D at 0x1146b4220>"
      ]
     },
     "execution_count": 80,
     "metadata": {},
     "output_type": "execute_result"
    },
    {
     "data": {
      "image/png": "[encoded data removed]",
      "text/plain": [
       "<Figure size 640x480 with 1 Axes>"
      ]
     },
     "metadata": {},
     "output_type": "display_data"
    }
   ],
   "source": [
    "def f(x):\n",
    "    return 2 - np.power(x, 2) * np.sin(x)\n",
    "\n",
    "bm = bisectionMethod(f, -1, 2, 0.1, 3)\n",
    "print(f\"The estimation of the root at p_3 is: \",bm)\n",
    "fig = plt.figure()\n",
    "ax = fig.add_subplot(1, 1, 1)\n",
    "ax.spines['bottom'].set_position('zero')\n",
    "ax.set_xticks(np.arange(0, 3, .2))\n",
    "ax.xaxis.set_ticks_position('bottom')\n",
    "ax.yaxis.set_ticks_position('left')\n",
    "plt.plot(np.linspace(1.0001, 3, 100), f(np.linspace(1.0001, 3, 100)))\n",
    "plt.axvline(x=bm, color='r', linestyle='--')\n",
    "\n"
   ]
  },
  {
   "attachments": {},
   "cell_type": "markdown",
   "metadata": {},
   "source": [
    "##  Question 2"
   ]
  },
  {
   "attachments": {},
   "cell_type": "markdown",
   "metadata": {},
   "source": [
    "2. Use two methods of your choice from Section 2.3 to find the solutions to within $10^{-5}$ for the following problem:\n",
    "$$ln(x−1) + cos(x−1) = 0,\\: 1.3 \\le x \\le 2 $$"
   ]
  },
  {
   "attachments": {},
   "cell_type": "markdown",
   "metadata": {},
   "source": [
    "To use Newtons method, $f \\in C^2[a,b]$\n",
    "$$\\frac{d}{dx}f(x) = \\frac{1}{x-1}-sin(x-1)$$\n",
    "$$\\frac{d^2}{dx^2}f(x) = -\\frac{1}{(x-1)^2}-cos(x-1)$$\n",
    "\n",
    "Since $f^2$ is continuous on $[1.3,2]$ we can use Newtons method.\n",
    "\n",
    "To use the False Position method, $f(p_0)f(p_1) < 0$.\n",
    "$$let\\:p_0 = 1.3,\\:and\\:p_1 = 2$$\n",
    "$$f(p_0) = −0.2486363152,\\:f(p_1) = 0.540302305868$$\n",
    "since $f(p_0)f(p_1) < 0$ we can use the False Position method."
   ]
  },
  {
   "cell_type": "code",
   "execution_count": 81,
   "metadata": {},
   "outputs": [
    {
     "name": "stdout",
     "output_type": "stream",
     "text": [
      "The estimation of the root using newtons method:  1.3977481644736214\n",
      "The estimation of the root using false position:  1.3977509211516925\n"
     ]
    },
    {
     "data": {
      "text/plain": [
       "<matplotlib.lines.Line2D at 0x11470a560>"
      ]
     },
     "execution_count": 81,
     "metadata": {},
     "output_type": "execute_result"
    },
    {
     "data": {
      "image/png": "[encoded data removed]",
      "text/plain": [
       "<Figure size 640x480 with 1 Axes>"
      ]
     },
     "metadata": {},
     "output_type": "display_data"
    }
   ],
   "source": [
    "def f(x):\n",
    "    return np.log(x-1) + np.cos(x-1)\n",
    "def df(x):\n",
    "    return 1/(x-1) - np.sin(x-1)\n",
    "\n",
    "nm = newtonsMethod(1.3, f, df, 1e-5, 100)\n",
    "fp = falsePosition(f, 1.3, 2, 1e-5, 100)\n",
    "\n",
    "print(f\"The estimation of the root using newtons method: \",nm)\n",
    "print(f\"The estimation of the root using false position: \",fp)\n",
    "\n",
    "fig = plt.figure()\n",
    "ax = fig.add_subplot(1, 1, 1)\n",
    "ax.spines['bottom'].set_position('zero')\n",
    "ax.set_xticks(np.arange(0, 3, .2))\n",
    "ax.xaxis.set_ticks_position('bottom')\n",
    "ax.yaxis.set_ticks_position('left')\n",
    "plt.plot(np.linspace(1.0001, 3, 100), f(np.linspace(1.0001, 3, 100)))\n",
    "plt.axvline(x=nm, color='r', linestyle='--')\n"
   ]
  },
  {
   "attachments": {},
   "cell_type": "markdown",
   "metadata": {},
   "source": [
    "##  Question 3"
   ]
  },
  {
   "attachments": {},
   "cell_type": "markdown",
   "metadata": {},
   "source": [
    "3. Let $f(x) =x\\:lnx+x^4$\n",
    "\n",
    "    a. Approximate $$\\begin{align*} \\int_1^3 f(x)\\:dx \\end{align*}$$ using Composite Simpsons rule with $n= 4$.\n",
    "\n",
    "    b. Find the smallest upper bound for the absolute error using the error formula.\n",
    "\n",
    "    c. Find the values of n required for an error of at most $0.00001$."
   ]
  },
  {
   "attachments": {},
   "cell_type": "markdown",
   "metadata": {},
   "source": [
    "a. To use the Composite Simpsons rule, $f \\in C^4[a,b]$.\n",
    "\n",
    "$$\\frac{d}{dx}(f(x)) = ln(x) + 1 + 4x^3$$\n",
    "$$\\frac{d^2}{dx^2}(f(x)) = \\frac{1}{x} + 12x^2$$\n",
    "$$\\frac{d^3}{dx^3}(f(x)) = -\\frac{1}{x^2} + 24x$$\n",
    "$$\\frac{d^4}{dx^4}(f(x)) = \\frac{2}{x^3} + 24$$\n",
    "\n",
    "Since $f^4$ is continuous on $[1,3]$ we can use the Composite Simpsons rule."
   ]
  },
  {
   "cell_type": "code",
   "execution_count": 82,
   "metadata": {},
   "outputs": [
    {
     "name": "stdout",
     "output_type": "stream",
     "text": [
      "51.36068725927244\n"
     ]
    }
   ],
   "source": [
    "def f(x):\n",
    "    return x * np.log(x) + np.power(x, 4)\n",
    "def d4f(x):\n",
    "    return 2*np.power(x, -3) + 24\n",
    "print(compositeSimpson(f, 1, 3, 4))"
   ]
  },
  {
   "attachments": {},
   "cell_type": "markdown",
   "metadata": {},
   "source": [
    "b. To find the smallest upper bound for the absolute error using the error formula, $f \\in C^4[a,b]$. Since $f \\in C^4[a,b]$, we can use the error formula:\n",
    "\n",
    "$$\\frac{b-a}{180}h^4f^4(\\mu),\\; h = \\frac{b-a}{n}$$\n",
    "\n",
    "by looking at the graph of $f^4$, the largest value of $f^4(\\mu)$ is at $f^4(1) = 26$\n",
    "\n",
    "$h = \\frac{3-1}{4} = \\frac{2}{4} = \\frac{1}{2}$\n",
    "\n",
    "$$\\implies \\frac{1}{180}*\\frac{1}{2^4}*26 \\le 10^{-n}$$\n",
    "\n",
    "$$\\implies \\frac{26}{2880} \\le 10^{-n}$$\n",
    "\n",
    "$$\\implies ln(\\frac{26}{2880}) \\le -nln(10)$$\n",
    "\n",
    "$$\\implies n \\ge \\frac{ln(\\frac{26}{2880})}{ln(10)}$$\n",
    "\n",
    "$$\\implies n \\ge 2.04441913979$$\n",
    "\n",
    "This implies that the smallest upper bound for the absolute error is $10^{-2.04441913979}$ or $0.00902777777774$.\n",
    "\n",
    "<br>\n",
    "<br>\n",
    "\n",
    "c. To find the values of n required for an error of at most $0.00001$, we use the error formula:\n",
    "\n",
    "$$\\frac{b-a}{180}h^4f^4(\\mu),\\; h = \\frac{b-a}{n}$$\n",
    "\n",
    "the largest value of $f^4(\\mu)$ is at $f^4(1) = 26$\n",
    "\n",
    "$$\\implies \\frac{2 h ^4}{180}*26 \\le 0.00001$$\n",
    "\n",
    "$h = \\frac{2}{n}$\n",
    "\n",
    "$$\\implies \\frac{32}{180*n^4}*26 \\le 0.00001$$\n",
    "\n",
    "$$\\implies  32 \\le \\frac{0.00001(180n^4)}{26}$$\n",
    "\n",
    "$$\\implies  32 \\le \\frac{0.0018}{26}n^4$$\n",
    "\n",
    "$$\\implies  \\frac{32*26}{0.0018} \\le n^4$$\n",
    "\n",
    "$$\\implies \\sqrt[4]{\\frac{32*26}{0.0018}} \\le n$$\n",
    "\n",
    "$$\\implies \\sqrt[4]{462222.222222} \\le n$$\n",
    "\n",
    "$$\\implies  26.0743028378 \\le n$$\n",
    "\n",
    "Because n must be an even integer, we need to round up to 28."
   ]
  },
  {
   "attachments": {},
   "cell_type": "markdown",
   "metadata": {},
   "source": [
    "##  Question 4"
   ]
  },
  {
   "attachments": {},
   "cell_type": "markdown",
   "metadata": {},
   "source": [
    "4. Let $A = \\begin{bmatrix}\n",
    "   1 & -1 & 2\\\\\n",
    "   -1 & 2 & -4\\\\\n",
    "   2 & -4 & 9\n",
    "\\end{bmatrix}$ and $b = \\begin{bmatrix}\n",
    "   -1\\\\\n",
    "   4\\\\\n",
    "   -9\n",
    "\\end{bmatrix}$\n",
    "\n",
    "   a. Factor the matrix $A$ using your choice of factorizations\n",
    "\n",
    "   b. Using the factorization obtained in a. solve the system $Ax=b$."
   ]
  },
  {
   "attachments": {},
   "cell_type": "markdown",
   "metadata": {},
   "source": [
    "a. If Gaussian elimination can used without row interchanges, the matrix $A$ can be factored into $LU$."
   ]
  },
  {
   "cell_type": "code",
   "execution_count": 83,
   "metadata": {},
   "outputs": [
    {
     "name": "stdout",
     "output_type": "stream",
     "text": [
      "[ 2.  1. -1.]\n"
     ]
    }
   ],
   "source": [
    "A = np.array([[1, -1, 2], [-1, 2, -4], [2, -4, 9]])\n",
    "b = np.array([-1, 4, -9])\n",
    "\n",
    "A = np.hstack((A, b.reshape(3, 1)))\n",
    "print(GaussianElimination(A))"
   ]
  },
  {
   "attachments": {},
   "cell_type": "markdown",
   "metadata": {},
   "source": [
    "Thus $A$ can be factored into $LU$."
   ]
  },
  {
   "cell_type": "code",
   "execution_count": 84,
   "metadata": {},
   "outputs": [
    {
     "name": "stdout",
     "output_type": "stream",
     "text": [
      "L = \n",
      " [[ 1.  0.  0.]\n",
      " [-1.  1.  0.]\n",
      " [ 2. -2.  1.]]\n",
      "U = \n",
      " [[ 1. -1.  2.]\n",
      " [ 0.  1. -2.]\n",
      " [ 0.  0.  1.]]\n",
      "x = \n",
      " [ 2.  1. -1.]\n"
     ]
    }
   ],
   "source": [
    "#a \n",
    "A = np.array([[1, -1, 2], [-1, 2, -4], [2, -4, 9]])\n",
    "b = np.array([-1, 4, -9])\n",
    "\n",
    "L, U = LUdecomposition(A)\n",
    "\n",
    "print(\"L = \\n\", L)\n",
    "print(\"U = \\n\", U)\n",
    "\n",
    "#b\n",
    "L = np.hstack((L, b.reshape(3, 1)))\n",
    "y  = GaussianElimination(L)\n",
    "\n",
    "U = np.hstack((U, y.reshape(3, 1)))\n",
    "x = GaussianElimination(U)\n",
    "print(\"x = \\n\", x)"
   ]
  },
  {
   "attachments": {},
   "cell_type": "markdown",
   "metadata": {},
   "source": [
    "##  Question 5"
   ]
  },
  {
   "attachments": {},
   "cell_type": "markdown",
   "metadata": {},
   "source": [
    "5. Let $A = \\begin{bmatrix}\n",
    "   3 & -2 & 0\\\\\n",
    "   -2 & 4 & -1\\\\\n",
    "   0 & 1 & 2\n",
    "\\end{bmatrix}$ and $b = \\begin{bmatrix}\n",
    "   2\\\\\n",
    "   1\\\\\n",
    "   -2\n",
    "\\end{bmatrix}$\n",
    "\n",
    "    a. Find the first two iterations using the Jacobi method with $x(0) = (1, 1, 1)^t$.\n",
    "\n",
    "    b. Find the first two iterations using the Gauss-Seidel method with $x(0) = (1, 1, 1)^t$.\n",
    "\n",
    "    c. Will the Jacobi method converge for this linear system? Why or why not?"
   ]
  },
  {
   "cell_type": "code",
   "execution_count": 85,
   "metadata": {},
   "outputs": [
    {
     "name": "stdout",
     "output_type": "stream",
     "text": [
      "1st iteration:  [ 1.33333333  1.         -1.5       ]\n",
      "2nd iteration:  [ 1.33333333  0.54166667 -1.5       ]\n"
     ]
    }
   ],
   "source": [
    "A = np.array([[3, -2, 0], [-2, 4, -1], [0, 1, 2]])\n",
    "b = np.array([2, 1, -2])\n",
    "\n",
    "print(\"1st iteration: \", JacobiIteration(A, b, maxIter=1))\n",
    "print(\"2nd iteration: \", JacobiIteration(A, b, maxIter=2))"
   ]
  },
  {
   "cell_type": "code",
   "execution_count": 86,
   "metadata": {},
   "outputs": [
    {
     "name": "stdout",
     "output_type": "stream",
     "text": [
      "1st iteration:  [ 1.33333333  1.16666667 -1.58333333]\n",
      "2nd iteration:  [ 1.44444444  0.57638889 -1.28819444]\n"
     ]
    }
   ],
   "source": [
    "A = np.array([[3, -2, 0], [-2, 4, -1], [0, 1, 2]])\n",
    "b = np.array([2, 1, -2])\n",
    "\n",
    "print(\"1st iteration: \", GaussSeidelIteration(A, b, maxIter=1))\n",
    "print(\"2nd iteration: \", GaussSeidelIteration(A, b, maxIter=2))"
   ]
  },
  {
   "attachments": {},
   "cell_type": "markdown",
   "metadata": {},
   "source": [
    "Using thm. 7.21, if A is strictly diagonally dominant, then both the Jacobi and Gauss-Seidel method will converge to a unique solution to $Ax = b$ for any initial guess $x^{(0)}$.\n",
    "\n",
    "To show that A is strictly diagonally dominant, we need to show that the absolute value of the diagonal element is greater than the sum of the absolute values of the other elements in the row.\n",
    "\n",
    "Row 1: $3 > | -2 | + | 0 | = 2$\n",
    "\n",
    "Row 2: $4 > | -2 | + | -1 | = 3$\n",
    "\n",
    "Row 3: $2 > | 0 | + | 1 | = 1$\n",
    "\n",
    "Therefore, $A$ is strictly diagonally dominant and both the Jacobi and Gauss-Seidel method will converge to a unique solution to $Ax = b$ for any initial guess $x^{(0)}$.\n"
   ]
  },
  {
   "attachments": {},
   "cell_type": "markdown",
   "metadata": {},
   "source": [
    "##  Question 6"
   ]
  },
  {
   "attachments": {},
   "cell_type": "markdown",
   "metadata": {},
   "source": [
    "6. Let $A = \\begin{bmatrix}\n",
    "   1 & 0 & -1\\\\\n",
    "   0 & 1 & 1\\\\\n",
    "   -1 & 1 & \\alpha\n",
    "\\end{bmatrix}$\n",
    "\n",
    "find all values of $\\alpha$ for which:\n",
    "\n",
    "   a. $A$ is singular\n",
    "\n",
    "   b. $A$ is strictly diagonally dominant\n",
    "\n",
    "   c. $A$ is positive definite"
   ]
  },
  {
   "attachments": {},
   "cell_type": "markdown",
   "metadata": {},
   "source": [
    "a. A matrix is singular if its determinant is zero.\n",
    "\n",
    "$$Det(A) = (\\alpha - 1) - 0 - (0+1)$$\n",
    "\n",
    "$$\\implies (\\alpha - 2) = 0$$\n",
    "\n",
    "$$\\implies \\alpha = 2$$\n",
    "\n",
    "Matrix $A$ is singular when $\\alpha = 2$.\n",
    "\n",
    "<br>\n",
    "<br>\n",
    "\n",
    "A matrix is strictly diagonally dominant if the absolute value of the diagonal element is greater than the sum of the absolute values of the other elements in the row.\n",
    "\n",
    "In its current form $A$ is not strictly diagonally dominant. However if some row operations are performed, then $A$ can be made strictly diagonally dominant.\n",
    "\n",
    "$$\\begin{bmatrix}\n",
    "   1 & 0 & -1\\\\\n",
    "   0 & 1 & 1\\\\\n",
    "   -1 & 1 & \\alpha\n",
    "\\end{bmatrix}$$\n",
    "\n",
    "$$R_3 = R_3 + R_1 - R_2$$\n",
    "\n",
    "\n",
    "$$\\begin{bmatrix}\n",
    "   1 & 0 & -1\\\\\n",
    "   0 & 1 & 1\\\\\n",
    "   0 & 0 & \\alpha - 2\n",
    "\\end{bmatrix}$$\n",
    "\n",
    "$$R_3 = \\frac{1}{2}R_3$$\n",
    "\n",
    "$$\\begin{bmatrix}\n",
    "   1 & 0 & -1\\\\\n",
    "   0 & 1 & 1\\\\\n",
    "   0 & 0 & \\frac{\\alpha}{2} - 1\n",
    "\\end{bmatrix}$$\n",
    "\n",
    "$$R_1 = R_1 - R_3$$\n",
    "\n",
    "$$R_2 = R_2 + R_3$$\n",
    "\n",
    "$$\\begin{bmatrix}\n",
    "   1 & 0 & -\\frac{\\alpha}{2}\\\\\n",
    "   0 & 1 & \\frac{\\alpha}{2}\\\\\n",
    "   0 & 0 & \\frac{\\alpha}{2} + 1\n",
    "\\end{bmatrix}$$\n",
    "\n",
    "Since the requirement to be diagonally dominant is that the absolute value of the diagonal element is greater than the sum of the absolute values of the other elements in the row, we can see that the matrix is strictly diagonally dominant when |$\\alpha| < 2$.\n",
    "\n",
    "<br>\n",
    "<br>\n",
    "\n",
    "c. A matrix is positive definite if $x^TAx > 0$ for all non-zero vectors $x$.\n",
    "\n",
    "$$[x_1, x_2, x_3] * \\begin{bmatrix} 1 & 0 & -1\\\\ 0 & 1 & 1\\\\ -1 & 1 & \\alpha \\end{bmatrix} * \\begin{bmatrix}x_1\\\\ x_2\\\\ x_3\\end{bmatrix} > 0$$\n",
    "\n",
    "$$\\implies [x_1, x_2, x_3] * \\begin{bmatrix} x_1 + 0x_2 - x_3\\\\ 0x_1 + x_2 + x_3\\\\ -x_1 + x_2 + \\alpha x_3 \\end{bmatrix} > 0$$\n",
    "\n",
    "$$\\implies x_1(x_1-x_3) + x_2(x_2+x_3) + x_3(-x_1+x_2+\\alpha x_3) > 0$$\n",
    "\n",
    "$$\\implies x_1^2 - x_1x_3 + x_2^2 + x_2x_3 - x_1x_3 +x_2x_3 + \\alpha x_3^2 > 0$$\n",
    "\n",
    "$$\\implies x_1^2 + x_2^2 + \\alpha x_3^2 -2x_1x_3 + 2x_2x_3 > 0$$\n",
    "\n",
    "$$\\implies \\alpha x_3^2 > 2x_1x_3 - 2x_2x_3 - x_1^2 - x_2^2$$\n",
    "\n",
    "$$\\implies \\alpha > \\frac{2x_1x_3 - 2x_2x_3 - x_1^2 - x_2^2}{x_3^2}$$\n",
    "\n",
    "Thus the values of $\\alpha$ for which $A$ is positive definite are $\\alpha > \\frac{2x_1x_3 - 2x_2x_3 - x_1^2 - x_2^2}{x_3^2}$ for all non-zero vectors $x$.\n"
   ]
  },
  {
   "cell_type": "code",
   "execution_count": 87,
   "metadata": {},
   "outputs": [
    {
     "name": "stdout",
     "output_type": "stream",
     "text": [
      "determinant of A 0.0\n",
      "is A diagonally dominant when a = 1.99:  True\n",
      "is A diagonally dominant when a = -1.99:  True\n",
      "is A diagonally dominant when a = 0:  True\n"
     ]
    }
   ],
   "source": [
    "#check the determinant of the matrix\n",
    "A = np.array([[1, 0, -1], [0, 1, 1], [-1, 1, 2]])\n",
    "print(\"determinant of A\", np.linalg.det(A))\n",
    "\n",
    "#check if the matrix is strictly diagonally dominant\n",
    "a = 1.99\n",
    "A = np.array([[1, 0, a/2], [0, 1, -a/2], [0, 0, a/2 + 1]])\n",
    "print(\"is A diagonally dominant when a = 1.99: \", isDiagonallyDominant(A))\n",
    "a=-1.99\n",
    "A = np.array([[1, 0, a/2], [0, 1, -a/2], [0, 0, a/2 + 1]])\n",
    "print(\"is A diagonally dominant when a = -1.99: \", isDiagonallyDominant(A))\n",
    "a=0\n",
    "A = np.array([[1, 0, a/2], [0, 1, -a/2], [0, 0, a/2 + 1]])\n",
    "print(\"is A diagonally dominant when a = 0: \", isDiagonallyDominant(A))"
   ]
  },
  {
   "attachments": {},
   "cell_type": "markdown",
   "metadata": {},
   "source": [
    "##  Question 7"
   ]
  },
  {
   "attachments": {},
   "cell_type": "markdown",
   "metadata": {},
   "source": [
    "7. Let $A = \\begin{bmatrix}\n",
    "   8 & 1 & 0\\\\\n",
    "   1 & 4 & -2\\\\\n",
    "   0 & -2 & 8\n",
    "\\end{bmatrix}$\n",
    "\n",
    "    a. Find $\\|A\\|_{\\infin}$\n",
    "    \n",
    "    b. Find $\\rho (A)$"
   ]
  },
  {
   "attachments": {},
   "cell_type": "markdown",
   "metadata": {},
   "source": [
    "a. To find $\\|A\\|_{\\infin}$, we find the largest row sum of each absolute value of the elements in the matrix.\n",
    "\n",
    "Row 1, $8 + 1 + 0 = 9$\n",
    "\n",
    "Row 2, $1 + 4 + 2 = 7$\n",
    "\n",
    "Row 3, $0 + 2 + 8 = 10$\n",
    "\n",
    "$\\implies$ $\\|A\\|_{\\infin} = 10$\n",
    "\n",
    "<br>\n",
    "<br>\n",
    "\n",
    "b. To find $\\rho (A)$, we find the largest eigenvalue of the matrix.\n",
    "To find the eigenvalues of a matrix, we use the characteristic equation, $det(A -\\lambda I)$.\n",
    "\n",
    "$$\\begin{vmatrix}\n",
    "   8 - \\lambda & 1 & 0\\\\\n",
    "   1 & 4 - \\lambda & -2\\\\\n",
    "   0 & -2 & 8 - \\lambda\n",
    "\\end{vmatrix} = 0$$\n",
    "\n",
    "$$Det(A) = (8-\\lambda)((4-\\lambda)(8-\\lambda) - 4) - (8-\\lambda)$$\n",
    "\n",
    "$$\\implies -x^3+20x^2-123x+216 = 0$$\n",
    "using synthetic division, we get the roots of the equation.\n",
    "\n",
    "$3$ | $-1$ | $20$ | $-123$ | $216$\n",
    "---|---|---|---|---\n",
    " | | | $-3$ | $51$ | $-216$\n",
    "| | $-1$ | $17$ | $-72$ | $0$\n",
    "\n",
    "$$\\implies -(x-1)(x^2-17x+72)$$\n",
    "\n",
    "$$\\implies -(x-1)(x-8)(x-9)$$\n",
    "\n",
    "$$\\implies x = 3, 8, 9$$\n",
    "\n",
    "$$\\implies \\rho (A) = 9$$"
   ]
  },
  {
   "cell_type": "code",
   "execution_count": 88,
   "metadata": {},
   "outputs": [
    {
     "name": "stdout",
     "output_type": "stream",
     "text": [
      "The estimation of the roots using newtons method:  [3, 8, 9]\n",
      "The infinite norm is:  10\n",
      "The spectral radius is:  9.000000000000002\n"
     ]
    },
    {
     "data": {
      "image/png": "[encoded data removed]",
      "text/plain": [
       "<Figure size 640x480 with 1 Axes>"
      ]
     },
     "metadata": {},
     "output_type": "display_data"
    }
   ],
   "source": [
    "def f(x):\n",
    "    return -1 * np.power(x, 3) + 20*np.power(x, 2) -123*x + 216\n",
    "def df(x):\n",
    "    return -3*np.power(x, 2)+40*x-123\n",
    "\n",
    "\n",
    "fig = plt.figure()\n",
    "ax = fig.add_subplot(1, 1, 1)\n",
    "ax.spines['bottom'].set_position('zero')\n",
    "ax.set_xticks(np.arange(0, 10, 1))\n",
    "ax.xaxis.set_ticks_position('bottom')\n",
    "ax.yaxis.set_ticks_position('left')\n",
    "plt.plot(np.linspace(0, 10, 100), f(np.linspace(0, 10, 100)))\n",
    "\n",
    "def df(x):\n",
    "    return -3*np.power(x, 2)+40*x-123\n",
    "\n",
    "nm = [newtonsMethod(3, f, df, 1e-15, 1000),\n",
    "newtonsMethod(8, f, df, 1e-15, 1000),\n",
    "newtonsMethod(9, f, df, 1e-15, 1000)]\n",
    "\n",
    "print(\"The estimation of the roots using newtons method: \", nm)\n",
    "\n",
    "A = np.array([[8, 1, 0], [1, 4, -2], [0, -2, 8]])\n",
    "\n",
    "print(\"The infinite norm is: \",infNorm(A))\n",
    "print(\"The spectral radius is: \", spectralRadius(A))"
   ]
  }
 ],
 "metadata": {
  "kernelspec": {
   "display_name": "dataPy",
   "language": "python",
   "name": "python3"
  },
  "language_info": {
   "codemirror_mode": {
    "name": "ipython",
    "version": 3
   },
   "file_extension": ".py",
   "mimetype": "text/x-python",
   "name": "python",
   "nbconvert_exporter": "python",
   "pygments_lexer": "ipython3",
   "version": "3.10.6 | packaged by conda-forge | (main, Aug 22 2022, 20:38:29) [Clang 13.0.1 ]"
  },
  "orig_nbformat": 4,
  "vscode": {
   "interpreter": {
    "hash": "8a2c1878e4d84f64cd2870bb3bdfdca84a9c1b9fce17f2d18b072f326e75f6cf"
   }
  }
 },
 "nbformat": 4,
 "nbformat_minor": 2
}
