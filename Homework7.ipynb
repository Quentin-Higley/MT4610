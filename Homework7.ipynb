{
 "cells": [
  {
   "cell_type": "code",
   "execution_count": 1,
   "metadata": {},
   "outputs": [],
   "source": [
    "import numpy as np\n",
    "\n",
    "def AdaptiveQuadrature(f, a, b, tol=1e-6):\n",
    "    \"\"\"\n",
    "    Adaptive quadrature for numerical integration.\n",
    "\n",
    "    Args:\n",
    "        f (function): function to integrate\n",
    "        a (float): lower bound of integration\n",
    "        b (float): upper bound of integration\n",
    "        tol (_type_, optional): tolerance for stopping criterion. Defaults to 1e-6.\n",
    "\n",
    "    Returns:\n",
    "        _type_: _description_\n",
    "    \"\"\"\n",
    "    # Simpson's Rule\n",
    "    def Simpson(f, a, b):\n",
    "        h = (b - a) / 2\n",
    "        return h / 3 * (f(a) + 4 * f(a + h) + f(b))\n",
    "\n",
    "    # Recursive function\n",
    "    def Recurse(f, a, b, tol):\n",
    "        c = (a + b) / 2\n",
    "        left = Simpson(f, a, c)\n",
    "        right = Simpson(f, c, b)\n",
    "        if abs(left + right - Simpson(f, a, b)) < 15 * tol:\n",
    "            return left + right + (left + right - Simpson(f, a, b)) / 15\n",
    "        return Recurse(f, a, c, tol / 2) + Recurse(f, c, b, tol / 2)\n",
    "\n",
    "    return Recurse(f, a, b, tol)"
   ]
  },
  {
   "cell_type": "markdown",
   "metadata": {},
   "source": [
    "## Assignment 7 MATH 4610\n",
    "### **Section 4.6**\n",
    "\n",
    "1.  Compute the Simpson’s rule approximations $S(a, b)$, $S(a, \\frac{(a + b)}{2})$ and $S(\\frac{(a + b)}{2}, b)$ \n",
    "for the following integral, and verify the estimate given in the approximation formula. \n",
    "\n",
    "$$\\int_{0}^{1}x^2e^{-x}\\,dx$$"
   ]
  },
  {
   "cell_type": "markdown",
   "metadata": {},
   "source": [
    "$$ a = x_0 = 0, b = x_2 = 1, h = \\frac{b-a}{2} $$\n",
    "\n",
    "$$ \\int_{0}^{1}x^2e^{-x}\\,dx \\approx S(a,b), S(a,a+\\frac{h}{2}) + S(a+\\frac{h}{2},b) -  \\frac{1}{16}(\\frac{h^5}{90})f^{(4)}(\\xi) $$\n",
    "\n",
    "-----\n",
    "\n",
    "$$ S(a,b) = \\frac{h}{3}(f(x_0) + 4f(x_1) + f(x_2)) $$\n",
    "\n",
    "$$ \\implies \\frac{1}{6}(f(0) + 4f(0.5) + f(1)) $$\n",
    "\n",
    "$$ \\implies \\frac{1}{6}(0 + 4(0.151632664928) + 0.367879441171) $$\n",
    "\n",
    "$$ \\implies S(a,b) = 0.162401683481$$\n",
    "\n",
    "-----\n",
    "\n",
    "$$ S(a, a + \\frac{h}{2}) = \\frac{1}{12}(f(0) + 4f(0.25) + f(0.5))$$\n",
    "\n",
    "$$ \\implies \\frac{1}{12}(0 + 4(0.048675048942) + 0.151632664928) $$\n",
    "\n",
    "$$ \\implies S(a, a + \\frac{h}{2}) = 0.0288610717247$$\n",
    "\n",
    "\\\\\n",
    "\n",
    "$$ S(a+\\frac{h}{2}, b) = \\frac{1}{12}(f(0.5) + 4f(0.75) + f(1))$$\n",
    "\n",
    "$$ \\implies \\frac{1}{12}(0.151632664928 + 4(0.265706185917) + 0.367879441171) $$\n",
    "\n",
    "$$ \\implies S(a+\\frac{h}{2}, b) = 0.131861404147$$\n",
    "\n",
    "-----\n",
    "$$ \\implies \\int_{0}^{1}x^2e^{-x}\\,dx \\approx S(a,b) = 0.162401683481 $$\n",
    "\n",
    "$$ \\implies \\int_{0}^{1}x^2e^{-x}\\,dx \\approx S(a, a + \\frac{h}{2}) + S(a+\\frac{h}{2}, b) = $$\n",
    "\n",
    "$$ = 0.0288610717247 + 0.131861404147 = 0.160722475872$$\n",
    "\n",
    "$$ \\frac{1}{16}(\\frac{h^5}{90})f^{(4)}(\\xi) $$\n",
    "\n",
    "the max value on the inverval [0,1] is at 1, so $\\xi = 1$\n",
    "\n",
    "$$\\frac{d}{dx}(f(x)) = 2e^{-x}x-e^{-x}x^2$$\n",
    "\n",
    "$$\\frac{d^2}{dx^2}(f(x)) = e^{-x}x^2-4e^{-x}x+2e^{-x}$$\n",
    "\n",
    "$$\\frac{d^3}{dx^3}(f(x)) = -e^{-x}x^2+6e^{-x}x-6e^{-x}$$\n",
    "\n",
    "$$\\frac{d^4}{dx^4}(f(x)) = e^{-x}x^2-8e^{-x}x+12e^{-x}$$\n",
    "\n",
    "$$\\frac{d^4}{dx^4}(f(1)) = 1.83939720586$$\n",
    "\n",
    "$$h = 0.5$$\n",
    "\n",
    "$$ \\frac{1}{16} \\frac{0.5^5}{90}(1.83939720586)  = 0.0000399174740854 $$\n",
    "\n",
    "$$ 0.160722475872 - 0.0000399174740854 = 0.160682558398$$\n",
    "\n",
    "\n",
    "-----\n",
    "\n",
    "\n",
    "Using the approximation formula,\n",
    "\n",
    "\n",
    "$$|S(a,b) - (S(a,a+\\frac{h}{2}) + S(a+\\frac{h}{2},b))| < 15 \\epsilon $$\n",
    "\n",
    "$$| 0.162401683481 - (0.160722475872) | < 0.025188114135  $$\n",
    "\n",
    "and\n",
    "\n",
    "$$ | \\int_0^1 f(x)dx - (S(a,a+\\frac{h}{2}) + S(a+\\frac{h}{2}, b)) | < 0.000119681729212\n",
    " $$"
   ]
  },
  {
   "cell_type": "markdown",
   "metadata": {},
   "source": [
    "2. Use Adaptive quadrature to find approximations to within $10^{-3}$ for the integrals in Exercise 1."
   ]
  },
  {
   "cell_type": "code",
   "execution_count": 2,
   "metadata": {},
   "outputs": [
    {
     "data": {
      "text/plain": [
       "0.16061052869798964"
      ]
     },
     "execution_count": 2,
     "metadata": {},
     "output_type": "execute_result"
    }
   ],
   "source": [
    "def f(x):\n",
    "    return x**2*np.exp(-x)\n",
    "AdaptiveQuadrature(f, 0, 1, tol=1e-3)"
   ]
  }
 ],
 "metadata": {
  "kernelspec": {
   "display_name": "Python 3.10.6 ('dataPy')",
   "language": "python",
   "name": "python3"
  },
  "language_info": {
   "codemirror_mode": {
    "name": "ipython",
    "version": 3
   },
   "file_extension": ".py",
   "mimetype": "text/x-python",
   "name": "python",
   "nbconvert_exporter": "python",
   "pygments_lexer": "ipython3",
   "version": "3.10.6"
  },
  "orig_nbformat": 4,
  "vscode": {
   "interpreter": {
    "hash": "8a2c1878e4d84f64cd2870bb3bdfdca84a9c1b9fce17f2d18b072f326e75f6cf"
   }
  }
 },
 "nbformat": 4,
 "nbformat_minor": 2
}
