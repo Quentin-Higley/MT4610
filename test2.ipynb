{
 "cells": [
  {
   "cell_type": "code",
   "execution_count": 1,
   "metadata": {},
   "outputs": [],
   "source": [
    "import numpy as np\n",
    "import numericalMethods as nm\n"
   ]
  },
  {
   "cell_type": "markdown",
   "metadata": {},
   "source": [
    "# **Numerical Analysis Math 4610**\n",
    "### **Test 2**\n",
    "- **Please write clearly and neatly.**\n",
    "- **Show all the required work, explaining necessary steps.**"
   ]
  },
  {
   "cell_type": "markdown",
   "metadata": {},
   "source": [
    "1. \n",
    "(a) Use appropriate Lagrange interpolating polynomials of degrees one and two to approximate the following: $f(0.25)$ if $f(−1) = 0.86199480, f(−0.5) = 0.95802009, f(0) = 1.0986123, f(0.5) = 1.2943767$.\n",
    "\n",
    "Using thm. 3.2, If $x_0, x_1, ..., x_n$ are n + 1 distinct numbers and $f$ is a function whose values are given at these numbers, then a unique polynomial $P(x)$ of degree at most n exists such that $P(x_i) = f(x_i)$ for each $i = 0, 1, ..., n$ given by: $$P(x) = \\sum_{i=0}^n f(x_i) \\frac{L_i(x)}{L_i(x_i)}$$ where $$L_i(x) = \\prod_{j=0, j \\neq i}^n \\frac{x - x_j}{x_i - x_j}$$\n",
    "\n",
    "For degree 1, because the estimate is $f(0.25)$, $L_0$ and $L_1$ will use the points at $f(0)$ and $f(0.5)$\n",
    "\n",
    "$$L_0(x) = f(x_0)\\frac{x-x_1}{x_0-x_1} = f(x_0)\\frac{x-0.5}{-0.5}$$ \n",
    "$$L_1(x) = f(x_1)\\frac{x-x_0}{x_1-x_0} = f(x_1)\\frac{x}{0.5}$$\n",
    "\n",
    "$$P(x) = 1.0986123\\frac{x-0.5}{-0.5} + 1.2943767\\frac{x}{0.5}$$\n",
    "$$P(0.25) = 1.0986123\\frac{0.25-0.5}{-0.5} + 1.2943767\\frac{0.25}{0.5} = 1.1964945$$\n",
    "\n",
    "For degree 2, because the estimate is $f(0.25)$, $L_0$, $L_1$, and $L_2$ will use the points at $f(-0.5)$, $f(0)$, and $f(0.5)$\n",
    "\n",
    "$$L_0(x) = f(x_0)\\frac{(x-x_1)(x-x_2)}{(x_0-x_1)(x_0-x_2)} = f(x_0)\\frac{(x-0)(x-0.5)}{0.5}$$\n",
    "\n",
    "$$L_1(x) = f(x_1)\\frac{(x-x_0)(x-x_2)}{(x_1-x_0)(x_1-x_2)} = f(x_1)\\frac{(x+0.5)(x-0.5)}{-0.25}$$\n",
    "\n",
    "$$L_2(x) = f(x_2)\\frac{(x-x_0)(x-x_1)}{(x_2-x_0)(x_2-x_1)} = f(x_2)\\frac{(x+0.5)(x)}{0.5}$$\n",
    "\n",
    "$$P(x) = 0.95802009\\frac{(x+0.5)(x)}{0.5} + 1.0986123\\frac{(x-0)(x-0.5)}{-0.25} + 1.2943767\\frac{(x+0.5)(x-0.5)}{-0.25}$$\n",
    "\n",
    "$$P(0.25) = 1.18959797625$$"
   ]
  },
  {
   "cell_type": "markdown",
   "metadata": {},
   "source": [
    "$\\\\$"
   ]
  },
  {
   "cell_type": "markdown",
   "metadata": {},
   "source": [
    "(b) The above data were generated using the function $y = ln(e^x + 2)$. Use the error formula to find a bound for the error, and compare the bound to the actual error for the cases $n = 1$ and $n = 2$.\n",
    "\n",
    "Using thm. 3.3 since $x_0,x_1,...,x_n$ are distinct numbers in the interval $[0, 0.5]$ and $[-0.5, 0.5]$ and $f \\in C^2$ and $C^3$ on their intervals. Then, for each x in the interval, a number $\\xi(x)$ between the min and max exists with:\n",
    "\n",
    "$$ E(x) = \\frac{f^{n+1} \\xi(x) }{(n+1)!}(x-x_0)(x-x_1)...(x-x_n) $$\n",
    "$n = 1$\n",
    "\n",
    "\n",
    "$$f^2(x) = \\frac{2e^x}{(e^x+2)^2}$$\n",
    "The maximum value on the interval for $\\xi(x)$ $[0,0.5]$ is at $0.5$\n",
    "The maximum value on the interval for $g(x) = x(x-0.5)$ is at $-0.25$\n",
    "$$ \\implies \\frac{f^2(\\xi(x))}{2}(x-x_0)(x-x_1)$$\n",
    "$$\\implies \\frac{f^2(\\xi)}{2}(x-0)(x-0.5) \\le |0.247682806306||-0.0625| = 0.0154801753941$$\n",
    "\n",
    "$n = 2$\n",
    "$$f^3(x) = \\frac{2e^x(-e^x+2)}{(e^x+2)^3}$$\n",
    "\n",
    "The maximum value on the interval for $\\xi(x)$, $[-0.5,0.5]$ is at $-0.5$\n",
    "The maximum value on the interval for $g(x) = x(x-0.5)(x+0.5)$, $[-0.5,0.5]$ is at $-0.2887$ and $0.2887$ both with an absolute value of $0.0481 $\n",
    "\n",
    "$$\\frac{f^{3} \\xi(x) }{6}(x+0.5)(x)(x-0.5)$$\n",
    "\n",
    "$$\\implies \\frac{f^3(\\xi)}{6}(x+0.5)(x)(x-0.5) \\le |0.0481||0.0955| = 0.00459247923792$$\n",
    "\n",
    "The actual error is equal to $p-p^*$\n",
    "\n",
    "For degree 1 : $1.18906993111 - 1.1964945$ = $-0.00742456889$ the actual error $0.00742456889$\n",
    "\n",
    "For degree 2 : $1.18959797625 - 1.1964945$ = $-0.00689652375$ the actual $0.00689652375$"
   ]
  },
  {
   "cell_type": "markdown",
   "metadata": {},
   "source": [
    "-----"
   ]
  },
  {
   "cell_type": "markdown",
   "metadata": {},
   "source": [
    "2.\n",
    "(a) Let $f(x) = 3xe^x−e^{2x}$. Approximate $f(1.03)$ by the Hermite interpolating polynomial of degree at most three using $x_0 = 1$ and $x_1 = 1.05$."
   ]
  },
  {
   "cell_type": "code",
   "execution_count": 6,
   "metadata": {},
   "outputs": [
    {
     "data": {
      "text/plain": [
       "array([[ 1.        ,  0.76578939,  0.        ,  0.        ,  0.        ],\n",
       "       [ 1.        ,  0.76578939,  1.53157877,  0.        ,  0.        ],\n",
       "       [ 1.05      ,  0.83543111,  1.39283446, -2.7748863 ,  0.        ],\n",
       "       [ 1.05      ,  0.83543111,  1.24221455, -3.01239813, -4.75023662]])"
      ]
     },
     "execution_count": 6,
     "metadata": {},
     "output_type": "execute_result"
    }
   ],
   "source": [
    "def f(x):\n",
    "    return 3*x*np.exp(x)-np.exp(2*x)\n",
    "x = np.array([1,1.05])\n",
    "y = np.array([f(x[0]),f(x[1])])\n",
    "dy = np.array([1.53157877289,1.24221455095])\n",
    "nm.HermiteInterpolation(x,y,dy)"
   ]
  },
  {
   "cell_type": "markdown",
   "metadata": {},
   "source": [
    "Using thm. 3.9 since $f \\in c^1$ $[1,1.05]$ and $x_0,x_1$ are distinct numbers in the interval $[1,1.05]$, the distinct unique polynomial of least degree with $f$ and $f'$ at $x0$ and $x1$ is the Hermite polynomial of degree at most $2(1)+1 = 3$ is given by:\n",
    "$$H_3(x) = f(x_0) + \\sum_{k=1}^{n=2} f(x_0,x_1,...,x_k)(x-x_0)...(x-x_{k-1})$$\n",
    "\n",
    "$$H_3(x) = 0.76578939 + 1.53157877(x-1) - 2.7748863(x-1)^2 - 4.75023662(x-1)^2(x-1.05)$$\n",
    "\n",
    "$$H_3(1.03) = 0.76578939 + 1.53157877(0.03) - 2.7748863(0.03)^2 - 4.75023662(0.03)^2(-0.02)$$\n",
    "\n",
    "$$H_3(1.03) = 0.809324859689$$\n"
   ]
  },
  {
   "cell_type": "markdown",
   "metadata": {},
   "source": [
    "$\\\\$"
   ]
  },
  {
   "cell_type": "markdown",
   "metadata": {},
   "source": [
    "(b) Compare the actual error to the error bound."
   ]
  },
  {
   "cell_type": "markdown",
   "metadata": {},
   "source": [
    "The actual error is given by $p-p^*$\n",
    "$$H_3(1.03) - f(1.03) = 0.809324859689 - 0.809323618902 = 0.00000124078729324$$ \n",
    "The absolute error is $0.00000124078729324$\n",
    "\n"
   ]
  },
  {
   "cell_type": "markdown",
   "metadata": {},
   "source": [
    "-----"
   ]
  },
  {
   "cell_type": "markdown",
   "metadata": {},
   "source": [
    "3. (No Computer Programming)\n",
    "\n",
    "(a) Construct the natural cubic spline for the following data.\n",
    "\n",
    "$$ \\begin{array}{c|c}\n",
    " \\text{x} & \\text{f(x)} \\\\ \\hline \\\\\n",
    " \\text{-0.25 } & \\text{1.33203} \\\\ \\hline \\\\\n",
    " \\text{0.25} & \\text{0.80078} \\\\ \n",
    " \\end{array} $$"
   ]
  },
  {
   "cell_type": "markdown",
   "metadata": {},
   "source": [
    "Using 3.11 because $f$ is defined at $a = x_0 < x_1 < ... < x_n = b, f$ has a unique natural spline interpolant $S$ on the nods $x_0, x_1, ..., x_n$. The natural spline interpolant is given by:\n",
    "\n",
    "\n",
    "$$S_i = a_i + b_i(x-x_i) + c_i(x-x_i)^2 + d_i(x-x_i)^3$$\n",
    "For $$x_i \\le x \\le x_{i+1}$$\n",
    "\n",
    "Points:\n",
    "- $(-0.25, 1.33203), (0.25, 0.80078)$\n",
    "\n",
    "$$S_0 = a_0 + b_0(x+0.25) + c_0(x+0.25)^2 + d_0(x+0.25)^3$$\n",
    "\n",
    "$$h_n = x_{n+1} -x_n$$\n",
    "\n",
    "$$h_0 = 0.5$$\n",
    "\n",
    "<br>\n",
    "\n",
    "$$c_n = A^{-1}u$$\n",
    "\n",
    "$$A = \\begin{bmatrix} 1 & 0  \\\\ 0 & 1  \\\\ \\end{bmatrix}$$\n",
    "$$b = \\begin{bmatrix} 0  \\\\ 0 \\\\ \\end{bmatrix}$$\n",
    "\n",
    "$$Ac = u$$\n",
    "$$c_n = [0,0]$$\n",
    "\n",
    "<br>\n",
    "\n",
    "$$b_0 = \\frac{1}{h_0}(a_1-a_0) - \\frac{h_0}{3}(c_1+2c_0)$$\n",
    "$$b_0 = \\frac{1}{0.5}(0.80078-1.33203) - (0) = -1.0625$$\n",
    "$$d_0 = \\frac{1}{3h_0}(c_1-c_0) = 0$$\n",
    "\n",
    "<br>\n",
    "\n",
    "$$ \\implies S(x) = S_0(x) = 1.33203 - 1.0625(x+0.25) + 0(x+0.25)^2 + 0(x+0.25)^3$$\n",
    "\n",
    "$$ \\implies S(x) = 1.33203 - 1.0625(x+0.25)$$ \n",
    "For $-0.25 \\le x \\le 0.25$\n",
    "\n"
   ]
  },
  {
   "cell_type": "markdown",
   "metadata": {},
   "source": [
    "$\\\\$"
   ]
  },
  {
   "cell_type": "markdown",
   "metadata": {},
   "source": [
    "(b) Construct the clamped cubic  spline using the data above and the fact that $\\\\$ $f′(−0.25)=0.437500$ and $f′(0.25)=−0.625000$\n",
    "\n",
    "Because  $f$ is defined at a = -0.25 < 0.25 and is differentiable at $a$ and $b$, $f$ has a unique clamped spine interpolated at $-0.25$ and $0.25$ that satisfies $s'(-0.25) = f'(-0.25)$ and $s'(0.25) = f'(0.25)$\n",
    "\n",
    "Given by:\n",
    "\n",
    "$$S_i = a_i + b_i(x-x_i) + c_i(x-x_i)^2 + d_i(x-x_i)^3$$\n",
    "For $$x_i \\le x \\le x_{i+1}$$\n",
    "\n",
    "\n",
    "Points:\n",
    "- $(-0.25, 1.33203), (0.25, 0.80078)$\n",
    "\n",
    "$$S_0 = a_0 + b_0(x+0.25) + c_0(x+0.25)^2 + d_0(x+0.25)^3$$\n",
    "\n",
    "$$ h_n = x_{n+1} -x_n$$\n",
    "<br>\n",
    "$$h_0 = 0.5$$\n",
    "\n",
    "$$ \\\\ A = \\begin{bmatrix} 2h_0 & h_0 \\\\ h_0 & 2h_0 \\\\ \\end{bmatrix}$$\n",
    "$$A = \\begin{bmatrix} 1 & 0.5 \\\\ 0.5 & 1 \\\\ \\end{bmatrix}$$\n",
    "\n",
    "$$u = \\begin{bmatrix} \\frac{3}{h_0}(a_1-a_0) -3f'(a)\\\\ 3f'(b) -\\frac{3}{h_0}(a_1-a_2)\\\\ \\end{bmatrix}$$\n",
    "\n",
    "$$u = \\begin{bmatrix} \\frac{3}{0.5}(0.80078-1.33203) -3(0.4375)\\\\ 3(-0.625) -\\frac{3}{0.5}(0.80078-1.33203)\\\\ \\end{bmatrix}$$\n",
    "$$u = \\begin{bmatrix} −4.5\\\\ 1.3125\\\\ \\end{bmatrix}$$\n",
    "\n",
    "$$Ac = u$$\n",
    "\n",
    "$$\\begin{bmatrix} 1 & 0.5 \\\\ 0.5 & 1 \\\\ \\end{bmatrix} \\begin{bmatrix} c_0\\\\ c_1\\\\ \\end{bmatrix} = \\begin{bmatrix} −4.5\\\\ 1.3125\\\\ \\end{bmatrix}$$\n",
    "\n",
    "$$c = [-6.875, 4.75]$$\n",
    "\n",
    "<br>\n",
    "\n",
    "$$ b_0 = \\frac{1}{h_0}(a_1-a_0) - \\frac{h_0}{3}(c_1+2c_0)$$\n",
    "$$b_0 = \\frac{1}{0.5}(0.80078-1.33203) - \\frac{(0.5)}{3}(4.75+2(-6.875)) = 0.4375$$\n",
    "\n",
    "<br>\n",
    "\n",
    "$$ \\\\ d_0 = \\frac{1}{3h_0}(c_1-c_0) = \\frac{1}{3(0.5)}(4.75-(-6.875)) = 7.75$$\n",
    "\n",
    "<br>\n",
    "\n",
    "$$ \\\\ \\implies S(x) = S_0(x) = 1.33203 - 0.4375(x+0.25) -6.875 (x+0.25)^2 + 7.75(x+0.25)^3, -0.25 \\le x \\le 0.25$$\n"
   ]
  },
  {
   "cell_type": "markdown",
   "metadata": {},
   "source": [
    "-----"
   ]
  },
  {
   "cell_type": "markdown",
   "metadata": {},
   "source": [
    "4.\n",
    "(a) Use the forward-difference formulas and backward-difference formulas to determine each missing entry in the following tables.\n",
    "\n",
    "$$ \\begin{array}{c|c|c}\n",
    " \\text{x} & \\text{f(x)} & \\text{f'(x)} \\\\ \\hline \\\\\n",
    " \\text{1.0 } & \\text{1.000} \\\\ \\hline \\\\\n",
    " \\text{1.2 } & \\text{1.2625} \\\\ \\hline \\\\\n",
    " \\text{1.4} & \\text{1.6595} \\\\ \n",
    " \\end{array} $$"
   ]
  },
  {
   "cell_type": "markdown",
   "metadata": {},
   "source": [
    "Forward Divided Difference:\n",
    "the forward difference is given by:\n",
    "$$ \\implies f'(x_0) = \\frac{f(x_1)-f(x_0)}{x_1-x_0} = 1.3125$$\n",
    "$$ \\implies f'(1) = \\frac{1.2625-1}{.2}$$\n",
    "Backward Divided Difference\n",
    "the backward difference is given by:\n",
    "$$ \\implies f'(x_2) = \\frac{f(x_2)-f(x_1)}{x_2-x_1}$$\n",
    "$$ \\implies f'(1.4) = \\frac{1.6595-1.2625}{1.4-1.2} = 1.985$$\n",
    "Final Divided Difference\n",
    "$$ \\implies f'(x_1) = \\frac{f'(x_2)-f'(x_0)}{x_2-x_0}$$\n",
    "$$ \\implies f'(1.2) = \\frac{1.6595-1.2625}{1.4-1} = 1.68125$$\n",
    "\n",
    "The final table is:\n",
    "$$ \\begin{array}{c|c|c}\n",
    " \\text{x} & \\text{f(x)} & \\text{f'(x)} \\\\ \\hline \\\\\n",
    " \\text{1.0 } & \\text{1.000} & \\text{1.3125} \\\\ \\hline \\\\\n",
    " \\text{1.2 } & \\text{1.2625} & \\text{1.68125} \\\\ \\hline \\\\\n",
    " \\text{1.4} & \\text{1.6595} & \\text{1.985} \\\\\n",
    " \\end{array} $$"
   ]
  },
  {
   "cell_type": "markdown",
   "metadata": {},
   "source": [
    "$$\\\\$$"
   ]
  },
  {
   "cell_type": "markdown",
   "metadata": {},
   "source": [
    "(b) The above data is from the function $f (x) = x^2 ln x + 1$. Compute the actual errors and find the error bounds using the error formulas.\n",
    "\n",
    "The derivative of $f(x) = x^2 ln x + 1$ is $f'(x) = 2xlnx + x^2\\frac{1}{x} + 0 = 2xlnx + x^2$\n",
    "\n",
    "The actual error of $f'(1) = p-p* = 1 - 1.3125 = -0.3125$, the absolute error is $0.3125$\n",
    "\n",
    "The actual error of $f'(1.2) = p-p* = 1.2625 - 1.68125 = -0.41875$, the absolute error is $0.41875$\n",
    "\n",
    "The actual error of $f'(1.4) = p-p* = 1.6595 - 1.985 = -0.3255$, the absolute error is $0.3255$"
   ]
  },
  {
   "cell_type": "markdown",
   "metadata": {},
   "source": [
    "-----"
   ]
  },
  {
   "cell_type": "markdown",
   "metadata": {},
   "source": [
    "5. \n",
    "Determine the values of n and h required to approximate $\\int_0^2 x^2sin x \\,dx$ to within $10^{−4}.\\\\$\n",
    "Use\n",
    "(a) Composite trapezoidal rule\n",
    "\n",
    "$\\\\$\n",
    "\n",
    "Using thm. 4.5 Because $f \\in C^2[a,b], h=\\frac{(b-a)}{n}$ and $x_j = a+jh$ there exists a $\\mu \\in (a,b)$ for which the composite trapozoidal rule error term can be given by:\n",
    "\n",
    "$$\\frac{b-a}{12}h^2f''(\\mu)$$\n",
    "\n",
    "Allowing to find $h$ then $n$ since $h = \\frac{b-a}{n}$"
   ]
  },
  {
   "cell_type": "markdown",
   "metadata": {},
   "source": [
    "To find h for the composite trapezoidal rule:\n",
    "$$ \\frac{b-a}{12}h^2f^2(\\mu) \\le 10^{-4} $$\n",
    "$$ f^2(x) = -x^2sin(x)+4xcos(x)+2sin(x) $$\n",
    "The maximum of the error is at $x = 2$ with $|f(x)| = 5.418$\n",
    "\n",
    "$$ \\implies \\frac{2-0}{12}h^2f^2(\\mu) \\le 10^{-4} $$\n",
    "\n",
    "$$ \\implies \\frac{1}{6}h^2f^2(\\mu) \\le 10^{-4} $$\n",
    "\n",
    "$$ \\implies h^2(5.418) \\le 6*10^{-4} $$\n",
    "\n",
    "$$ \\implies h \\le \\sqrt{\\frac{6*10^{-4}}{5.418}} $$\n",
    "\n",
    "$$ \\implies h \\le 0.0105234011235 $$\n",
    "\n",
    "To find n for the composite trapezoidal rule:\n",
    "\n",
    "$$ \\frac{b-a}{h} = n $$\n",
    "\n",
    "$$ \\implies \\frac{2-0}{0.0105234011235} \\ge n $$\n",
    "\n",
    "$$ \\implies n \\ge 190.05 $$"
   ]
  },
  {
   "cell_type": "code",
   "execution_count": 33,
   "metadata": {},
   "outputs": [
    {
     "data": {
      "text/plain": [
       "2.4695014047090926"
      ]
     },
     "execution_count": 33,
     "metadata": {},
     "output_type": "execute_result"
    }
   ],
   "source": [
    "def f(x):\n",
    "    return np.power(x,2)*np.sin(x)\n",
    "\n",
    "nm.composite_trapezoidal(f,0,2,191)"
   ]
  },
  {
   "cell_type": "markdown",
   "metadata": {},
   "source": [
    "$\\\\$"
   ]
  },
  {
   "cell_type": "markdown",
   "metadata": {},
   "source": [
    "(b) Composite Simpson’s rule\n",
    "\n",
    "Using 4.4 because $f \\in C^4[a,b]$, $n$ be even, $h=\\frac{(b-a)}{(n)}$ and $x_j a+jh$ there exists a $\\mu \\in (a,b)$ for which the composite simpson rule error term can be given by:\n",
    "\n",
    "$$\\frac{b-a}{180}h^4f^4(\\mu)$$\n",
    "\n",
    "allowing to find $h$ then $n$ since $h = \\frac{b-a}{n}$\n",
    "\n",
    "to find h for the composite Simpson's rule:\n",
    "$$ \\frac{b-a}{180}h^4f^4(\\mu) \\le 10^{-4} $$\n",
    "$$ f^4(x) = -x^2sin(x)+8xcos(x)+12sin(x) $$\n",
    "The maximum of the error is at $x = 1.059$ with $|f(x)| = 13.634$\n",
    "\n",
    "$$ \\implies \\frac{2-0}{180}h^4f^4(\\mu) \\le 10^{-4} $$\n",
    "$$ \\implies \\frac{1}{90}h^4f^4(\\mu) \\le 10^{-4} $$\n",
    "$$ \\implies h^4(13.634) \\le 10^{-4} * 90 $$\n",
    "$$ \\implies h \\le \\sqrt[4]{\\frac{10^{-4} * 90}{13.634}} $$\n",
    "$$ \\implies h \\le 0.160289400628 $$\n",
    "\n",
    "to find n for the composite Simpson's rule:\n",
    "\n",
    "$$ \\frac{a-b}{h} = n $$\n",
    "$$ \\implies \\frac{2-0}{n} \\ge 0.160289400628 $$\n",
    "$$ \\implies \\frac{2-0}{0.160289400628} \\ge n $$\n",
    "$$ \\implies n \\ge 12.477431 $$\n",
    "Because n must be even for Simpson's rule, round up to 14."
   ]
  },
  {
   "cell_type": "code",
   "execution_count": 9,
   "metadata": {},
   "outputs": [
    {
     "data": {
      "text/plain": [
       "2.469442070644263"
      ]
     },
     "execution_count": 9,
     "metadata": {},
     "output_type": "execute_result"
    }
   ],
   "source": [
    "nm.composite_simpson(f,0,2,14)"
   ]
  },
  {
   "cell_type": "markdown",
   "metadata": {},
   "source": [
    "$\\\\$"
   ]
  },
  {
   "cell_type": "markdown",
   "metadata": {},
   "source": [
    "(c) Composite Midpoint rule\n",
    "\n",
    "Using thm 4.6, because $f \\in C^2[a,b]$, $n$ be even, $h=\\frac{(b-a)}{(n+2)}$ and $x_j a+(j+1)h$ there exists a $\\mu \\in (a,b)$ for which the composite trapozoidal rule error term can be given by:\n",
    "\n",
    "$$\\frac{b-a}{6}h^2f''(\\mu)$$\n",
    "\n",
    "allowing to find $h$ then $n$ since $h = \\frac{b-a}{n+2}$\n",
    "\n",
    "to find h for the composite Midpoint rule:\n",
    "$$ \\frac{b-a}{6}h^2f^2(\\mu) \\le 10^{-4} $$\n",
    "$$ f^2(x) = -x^2sin(x)+4xcos(x)+2sin(x) $$\n",
    "The maximum of the error is at $x = 2$ with $|f(x)| = 5.418$\n",
    "\n",
    "$$ \\implies \\frac{2-0}{6}h^2f^2(\\mu) \\le 10^{-4} $$\n",
    "$$ \\implies \\frac{1}{3}h^2f^2(\\mu) \\le 10^{-4} $$\n",
    "$$ \\implies h^2(5.418) \\le 10^{-4} * 3 $$\n",
    "$$ \\implies h \\le \\sqrt{\\frac{10^{-4} * 3}{5.418}} $$\n",
    "$$ \\implies h \\le 0.00744116829561 $$\n",
    "\n",
    "to find n for the composite Midpoint rule:\n",
    "\n",
    "$$ \\frac{a-b}{n+2} = h $$\n",
    "$$ \\implies \\frac{2-0}{n+2} \\ge 0.00744116829561 $$\n",
    "$$ \\implies \\frac{2}{0.00744116829561} \\ge n+2 $$\n",
    "$$ \\implies n \\ge 266.774998837 $$\n",
    "\n",
    "because n must be even for the composite midpoint rule, round up to 268."
   ]
  },
  {
   "cell_type": "code",
   "execution_count": 45,
   "metadata": {},
   "outputs": [
    {
     "data": {
      "text/plain": [
       "2.45592093188472"
      ]
     },
     "execution_count": 45,
     "metadata": {},
     "output_type": "execute_result"
    }
   ],
   "source": [
    "nm.composite_midpoint(f,0,2,268)"
   ]
  },
  {
   "cell_type": "markdown",
   "metadata": {},
   "source": [
    "-----"
   ]
  },
  {
   "cell_type": "markdown",
   "metadata": {},
   "source": [
    "6. Use adaptive quadrature to find approximations to within $10^{−4}$ for the following integrals. $\\\\ \\int_0^2 x^2sin x \\,dx$"
   ]
  },
  {
   "cell_type": "code",
   "execution_count": 20,
   "metadata": {},
   "outputs": [
    {
     "data": {
      "text/plain": [
       "2.4694837480191314"
      ]
     },
     "execution_count": 20,
     "metadata": {},
     "output_type": "execute_result"
    }
   ],
   "source": [
    "nm.AdaptiveQuadrature(f,0,2,1e-4)"
   ]
  },
  {
   "cell_type": "markdown",
   "metadata": {},
   "source": [
    "-----"
   ]
  }
 ],
 "metadata": {
  "kernelspec": {
   "display_name": "Python 3.10.6 ('dataPy')",
   "language": "python",
   "name": "python3"
  },
  "language_info": {
   "codemirror_mode": {
    "name": "ipython",
    "version": 3
   },
   "file_extension": ".py",
   "mimetype": "text/x-python",
   "name": "python",
   "nbconvert_exporter": "python",
   "pygments_lexer": "ipython3",
   "version": "3.10.6"
  },
  "orig_nbformat": 4,
  "vscode": {
   "interpreter": {
    "hash": "8a2c1878e4d84f64cd2870bb3bdfdca84a9c1b9fce17f2d18b072f326e75f6cf"
   }
  }
 },
 "nbformat": 4,
 "nbformat_minor": 2
}
